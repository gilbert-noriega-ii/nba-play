{
 "cells": [
  {
   "cell_type": "markdown",
   "metadata": {},
   "source": [
    "# Some Teams One Dream\n",
    "Hand checking NBA teams from the 2014-2018 seasons"
   ]
  },
  {
   "cell_type": "code",
   "execution_count": 1,
   "metadata": {},
   "outputs": [],
   "source": [
    "#acquire libraries\n",
    "import pandas as pd\n",
    "\n",
    "#explore libraries\n",
    "import numpy as np\n",
    "import seaborn as sns\n",
    "import matplotlib.pyplot as plt\n",
    "from scipy import stats\n",
    "\n",
    "from prepare import wrangle_nba, scaled_wrangle_nba\n",
    "\n",
    "#model libraries\n",
    "from model import logistic_regression, decision_tree, random_forest, kneighbors, logistic_regression_validate, decision_tree_validate, random_forest_validate, kneighbors_validate\n",
    "\n",
    "\n",
    "import warnings\n",
    "warnings.filterwarnings(\"ignore\")"
   ]
  },
  {
   "cell_type": "markdown",
   "metadata": {},
   "source": [
    "## Acquire"
   ]
  },
  {
   "cell_type": "code",
   "execution_count": 2,
   "metadata": {},
   "outputs": [],
   "source": [
    "#uploading the nba csv and saving it as a dataframe called nba\n",
    "nba = pd.read_csv('nba.games.stats.csv')"
   ]
  },
  {
   "cell_type": "markdown",
   "metadata": {},
   "source": [
    "### Initial analysis of the data"
   ]
  },
  {
   "cell_type": "code",
   "execution_count": 3,
   "metadata": {},
   "outputs": [
    {
     "data": {
      "text/html": [
       "<div>\n",
       "<style scoped>\n",
       "    .dataframe tbody tr th:only-of-type {\n",
       "        vertical-align: middle;\n",
       "    }\n",
       "\n",
       "    .dataframe tbody tr th {\n",
       "        vertical-align: top;\n",
       "    }\n",
       "\n",
       "    .dataframe thead th {\n",
       "        text-align: right;\n",
       "    }\n",
       "</style>\n",
       "<table border=\"1\" class=\"dataframe\">\n",
       "  <thead>\n",
       "    <tr style=\"text-align: right;\">\n",
       "      <th></th>\n",
       "      <th>Unnamed: 0</th>\n",
       "      <th>Team</th>\n",
       "      <th>Game</th>\n",
       "      <th>Date</th>\n",
       "      <th>Home</th>\n",
       "      <th>Opponent</th>\n",
       "      <th>WINorLOSS</th>\n",
       "      <th>TeamPoints</th>\n",
       "      <th>OpponentPoints</th>\n",
       "      <th>FieldGoals</th>\n",
       "      <th>...</th>\n",
       "      <th>Opp.FreeThrows</th>\n",
       "      <th>Opp.FreeThrowsAttempted</th>\n",
       "      <th>Opp.FreeThrows.</th>\n",
       "      <th>Opp.OffRebounds</th>\n",
       "      <th>Opp.TotalRebounds</th>\n",
       "      <th>Opp.Assists</th>\n",
       "      <th>Opp.Steals</th>\n",
       "      <th>Opp.Blocks</th>\n",
       "      <th>Opp.Turnovers</th>\n",
       "      <th>Opp.TotalFouls</th>\n",
       "    </tr>\n",
       "  </thead>\n",
       "  <tbody>\n",
       "    <tr>\n",
       "      <th>0</th>\n",
       "      <td>1</td>\n",
       "      <td>ATL</td>\n",
       "      <td>1</td>\n",
       "      <td>2014-10-29</td>\n",
       "      <td>Away</td>\n",
       "      <td>TOR</td>\n",
       "      <td>L</td>\n",
       "      <td>102</td>\n",
       "      <td>109</td>\n",
       "      <td>40</td>\n",
       "      <td>...</td>\n",
       "      <td>27</td>\n",
       "      <td>33</td>\n",
       "      <td>0.818</td>\n",
       "      <td>16</td>\n",
       "      <td>48</td>\n",
       "      <td>26</td>\n",
       "      <td>13</td>\n",
       "      <td>9</td>\n",
       "      <td>9</td>\n",
       "      <td>22</td>\n",
       "    </tr>\n",
       "    <tr>\n",
       "      <th>1</th>\n",
       "      <td>2</td>\n",
       "      <td>ATL</td>\n",
       "      <td>2</td>\n",
       "      <td>2014-11-01</td>\n",
       "      <td>Home</td>\n",
       "      <td>IND</td>\n",
       "      <td>W</td>\n",
       "      <td>102</td>\n",
       "      <td>92</td>\n",
       "      <td>35</td>\n",
       "      <td>...</td>\n",
       "      <td>18</td>\n",
       "      <td>21</td>\n",
       "      <td>0.857</td>\n",
       "      <td>11</td>\n",
       "      <td>44</td>\n",
       "      <td>25</td>\n",
       "      <td>5</td>\n",
       "      <td>5</td>\n",
       "      <td>18</td>\n",
       "      <td>26</td>\n",
       "    </tr>\n",
       "    <tr>\n",
       "      <th>2</th>\n",
       "      <td>3</td>\n",
       "      <td>ATL</td>\n",
       "      <td>3</td>\n",
       "      <td>2014-11-05</td>\n",
       "      <td>Away</td>\n",
       "      <td>SAS</td>\n",
       "      <td>L</td>\n",
       "      <td>92</td>\n",
       "      <td>94</td>\n",
       "      <td>38</td>\n",
       "      <td>...</td>\n",
       "      <td>27</td>\n",
       "      <td>38</td>\n",
       "      <td>0.711</td>\n",
       "      <td>11</td>\n",
       "      <td>50</td>\n",
       "      <td>25</td>\n",
       "      <td>7</td>\n",
       "      <td>9</td>\n",
       "      <td>19</td>\n",
       "      <td>15</td>\n",
       "    </tr>\n",
       "    <tr>\n",
       "      <th>3</th>\n",
       "      <td>4</td>\n",
       "      <td>ATL</td>\n",
       "      <td>4</td>\n",
       "      <td>2014-11-07</td>\n",
       "      <td>Away</td>\n",
       "      <td>CHO</td>\n",
       "      <td>L</td>\n",
       "      <td>119</td>\n",
       "      <td>122</td>\n",
       "      <td>43</td>\n",
       "      <td>...</td>\n",
       "      <td>20</td>\n",
       "      <td>27</td>\n",
       "      <td>0.741</td>\n",
       "      <td>11</td>\n",
       "      <td>51</td>\n",
       "      <td>31</td>\n",
       "      <td>6</td>\n",
       "      <td>7</td>\n",
       "      <td>19</td>\n",
       "      <td>30</td>\n",
       "    </tr>\n",
       "    <tr>\n",
       "      <th>4</th>\n",
       "      <td>5</td>\n",
       "      <td>ATL</td>\n",
       "      <td>5</td>\n",
       "      <td>2014-11-08</td>\n",
       "      <td>Home</td>\n",
       "      <td>NYK</td>\n",
       "      <td>W</td>\n",
       "      <td>103</td>\n",
       "      <td>96</td>\n",
       "      <td>33</td>\n",
       "      <td>...</td>\n",
       "      <td>8</td>\n",
       "      <td>11</td>\n",
       "      <td>0.727</td>\n",
       "      <td>13</td>\n",
       "      <td>44</td>\n",
       "      <td>26</td>\n",
       "      <td>2</td>\n",
       "      <td>6</td>\n",
       "      <td>15</td>\n",
       "      <td>29</td>\n",
       "    </tr>\n",
       "  </tbody>\n",
       "</table>\n",
       "<p>5 rows × 41 columns</p>\n",
       "</div>"
      ],
      "text/plain": [
       "   Unnamed: 0 Team  Game        Date  Home Opponent WINorLOSS  TeamPoints  \\\n",
       "0           1  ATL     1  2014-10-29  Away      TOR         L         102   \n",
       "1           2  ATL     2  2014-11-01  Home      IND         W         102   \n",
       "2           3  ATL     3  2014-11-05  Away      SAS         L          92   \n",
       "3           4  ATL     4  2014-11-07  Away      CHO         L         119   \n",
       "4           5  ATL     5  2014-11-08  Home      NYK         W         103   \n",
       "\n",
       "   OpponentPoints  FieldGoals  ...  Opp.FreeThrows  Opp.FreeThrowsAttempted  \\\n",
       "0             109          40  ...              27                       33   \n",
       "1              92          35  ...              18                       21   \n",
       "2              94          38  ...              27                       38   \n",
       "3             122          43  ...              20                       27   \n",
       "4              96          33  ...               8                       11   \n",
       "\n",
       "   Opp.FreeThrows.  Opp.OffRebounds  Opp.TotalRebounds  Opp.Assists  \\\n",
       "0            0.818               16                 48           26   \n",
       "1            0.857               11                 44           25   \n",
       "2            0.711               11                 50           25   \n",
       "3            0.741               11                 51           31   \n",
       "4            0.727               13                 44           26   \n",
       "\n",
       "   Opp.Steals  Opp.Blocks  Opp.Turnovers  Opp.TotalFouls  \n",
       "0          13           9              9              22  \n",
       "1           5           5             18              26  \n",
       "2           7           9             19              15  \n",
       "3           6           7             19              30  \n",
       "4           2           6             15              29  \n",
       "\n",
       "[5 rows x 41 columns]"
      ]
     },
     "execution_count": 3,
     "metadata": {},
     "output_type": "execute_result"
    }
   ],
   "source": [
    "#sneak peak into the data\n",
    "nba.head()"
   ]
  },
  {
   "cell_type": "code",
   "execution_count": 4,
   "metadata": {},
   "outputs": [
    {
     "data": {
      "text/plain": [
       "(9840, 41)"
      ]
     },
     "execution_count": 4,
     "metadata": {},
     "output_type": "execute_result"
    }
   ],
   "source": [
    "#checking to see how many rows and columns there are\n",
    "nba.shape"
   ]
  },
  {
   "cell_type": "code",
   "execution_count": 5,
   "metadata": {},
   "outputs": [
    {
     "name": "stdout",
     "output_type": "stream",
     "text": [
      "<class 'pandas.core.frame.DataFrame'>\n",
      "RangeIndex: 9840 entries, 0 to 9839\n",
      "Data columns (total 41 columns):\n",
      " #   Column                    Non-Null Count  Dtype  \n",
      "---  ------                    --------------  -----  \n",
      " 0   Unnamed: 0                9840 non-null   int64  \n",
      " 1   Team                      9840 non-null   object \n",
      " 2   Game                      9840 non-null   int64  \n",
      " 3   Date                      9840 non-null   object \n",
      " 4   Home                      9840 non-null   object \n",
      " 5   Opponent                  9840 non-null   object \n",
      " 6   WINorLOSS                 9840 non-null   object \n",
      " 7   TeamPoints                9840 non-null   int64  \n",
      " 8   OpponentPoints            9840 non-null   int64  \n",
      " 9   FieldGoals                9840 non-null   int64  \n",
      " 10  FieldGoalsAttempted       9840 non-null   int64  \n",
      " 11  FieldGoals.               9840 non-null   float64\n",
      " 12  X3PointShots              9840 non-null   int64  \n",
      " 13  X3PointShotsAttempted     9840 non-null   int64  \n",
      " 14  X3PointShots.             9840 non-null   float64\n",
      " 15  FreeThrows                9840 non-null   int64  \n",
      " 16  FreeThrowsAttempted       9840 non-null   int64  \n",
      " 17  FreeThrows.               9840 non-null   float64\n",
      " 18  OffRebounds               9840 non-null   int64  \n",
      " 19  TotalRebounds             9840 non-null   int64  \n",
      " 20  Assists                   9840 non-null   int64  \n",
      " 21  Steals                    9840 non-null   int64  \n",
      " 22  Blocks                    9840 non-null   int64  \n",
      " 23  Turnovers                 9840 non-null   int64  \n",
      " 24  TotalFouls                9840 non-null   int64  \n",
      " 25  Opp.FieldGoals            9840 non-null   int64  \n",
      " 26  Opp.FieldGoalsAttempted   9840 non-null   int64  \n",
      " 27  Opp.FieldGoals.           9840 non-null   float64\n",
      " 28  Opp.3PointShots           9840 non-null   int64  \n",
      " 29  Opp.3PointShotsAttempted  9840 non-null   int64  \n",
      " 30  Opp.3PointShots.          9840 non-null   float64\n",
      " 31  Opp.FreeThrows            9840 non-null   int64  \n",
      " 32  Opp.FreeThrowsAttempted   9840 non-null   int64  \n",
      " 33  Opp.FreeThrows.           9840 non-null   float64\n",
      " 34  Opp.OffRebounds           9840 non-null   int64  \n",
      " 35  Opp.TotalRebounds         9840 non-null   int64  \n",
      " 36  Opp.Assists               9840 non-null   int64  \n",
      " 37  Opp.Steals                9840 non-null   int64  \n",
      " 38  Opp.Blocks                9840 non-null   int64  \n",
      " 39  Opp.Turnovers             9840 non-null   int64  \n",
      " 40  Opp.TotalFouls            9840 non-null   int64  \n",
      "dtypes: float64(6), int64(30), object(5)\n",
      "memory usage: 3.1+ MB\n"
     ]
    }
   ],
   "source": [
    "#checking data types, null values, and column names\n",
    "nba.info()"
   ]
  },
  {
   "cell_type": "code",
   "execution_count": 6,
   "metadata": {},
   "outputs": [
    {
     "data": {
      "text/html": [
       "<div>\n",
       "<style scoped>\n",
       "    .dataframe tbody tr th:only-of-type {\n",
       "        vertical-align: middle;\n",
       "    }\n",
       "\n",
       "    .dataframe tbody tr th {\n",
       "        vertical-align: top;\n",
       "    }\n",
       "\n",
       "    .dataframe thead th {\n",
       "        text-align: right;\n",
       "    }\n",
       "</style>\n",
       "<table border=\"1\" class=\"dataframe\">\n",
       "  <thead>\n",
       "    <tr style=\"text-align: right;\">\n",
       "      <th></th>\n",
       "      <th>count</th>\n",
       "      <th>mean</th>\n",
       "      <th>std</th>\n",
       "      <th>min</th>\n",
       "      <th>25%</th>\n",
       "      <th>50%</th>\n",
       "      <th>75%</th>\n",
       "      <th>max</th>\n",
       "    </tr>\n",
       "  </thead>\n",
       "  <tbody>\n",
       "    <tr>\n",
       "      <th>Unnamed: 0</th>\n",
       "      <td>9840.0</td>\n",
       "      <td>11960.157012</td>\n",
       "      <td>18654.867508</td>\n",
       "      <td>1.000</td>\n",
       "      <td>2537.750</td>\n",
       "      <td>5141.500</td>\n",
       "      <td>7715.250</td>\n",
       "      <td>82119.000</td>\n",
       "    </tr>\n",
       "    <tr>\n",
       "      <th>Game</th>\n",
       "      <td>9840.0</td>\n",
       "      <td>41.500000</td>\n",
       "      <td>23.670804</td>\n",
       "      <td>1.000</td>\n",
       "      <td>21.000</td>\n",
       "      <td>41.500</td>\n",
       "      <td>62.000</td>\n",
       "      <td>82.000</td>\n",
       "    </tr>\n",
       "    <tr>\n",
       "      <th>TeamPoints</th>\n",
       "      <td>9840.0</td>\n",
       "      <td>103.652337</td>\n",
       "      <td>12.188043</td>\n",
       "      <td>64.000</td>\n",
       "      <td>95.000</td>\n",
       "      <td>103.000</td>\n",
       "      <td>112.000</td>\n",
       "      <td>149.000</td>\n",
       "    </tr>\n",
       "    <tr>\n",
       "      <th>OpponentPoints</th>\n",
       "      <td>9840.0</td>\n",
       "      <td>103.652337</td>\n",
       "      <td>12.188043</td>\n",
       "      <td>64.000</td>\n",
       "      <td>95.000</td>\n",
       "      <td>103.000</td>\n",
       "      <td>112.000</td>\n",
       "      <td>149.000</td>\n",
       "    </tr>\n",
       "    <tr>\n",
       "      <th>FieldGoals</th>\n",
       "      <td>9840.0</td>\n",
       "      <td>38.602439</td>\n",
       "      <td>5.029992</td>\n",
       "      <td>19.000</td>\n",
       "      <td>35.000</td>\n",
       "      <td>38.000</td>\n",
       "      <td>42.000</td>\n",
       "      <td>58.000</td>\n",
       "    </tr>\n",
       "    <tr>\n",
       "      <th>FieldGoalsAttempted</th>\n",
       "      <td>9840.0</td>\n",
       "      <td>84.902439</td>\n",
       "      <td>7.130043</td>\n",
       "      <td>60.000</td>\n",
       "      <td>80.000</td>\n",
       "      <td>85.000</td>\n",
       "      <td>89.000</td>\n",
       "      <td>129.000</td>\n",
       "    </tr>\n",
       "    <tr>\n",
       "      <th>FieldGoals.</th>\n",
       "      <td>9840.0</td>\n",
       "      <td>0.455689</td>\n",
       "      <td>0.054711</td>\n",
       "      <td>0.271</td>\n",
       "      <td>0.418</td>\n",
       "      <td>0.455</td>\n",
       "      <td>0.494</td>\n",
       "      <td>0.684</td>\n",
       "    </tr>\n",
       "    <tr>\n",
       "      <th>X3PointShots</th>\n",
       "      <td>9840.0</td>\n",
       "      <td>9.126829</td>\n",
       "      <td>3.598084</td>\n",
       "      <td>0.000</td>\n",
       "      <td>7.000</td>\n",
       "      <td>9.000</td>\n",
       "      <td>11.000</td>\n",
       "      <td>25.000</td>\n",
       "    </tr>\n",
       "    <tr>\n",
       "      <th>X3PointShotsAttempted</th>\n",
       "      <td>9840.0</td>\n",
       "      <td>25.623679</td>\n",
       "      <td>7.102501</td>\n",
       "      <td>4.000</td>\n",
       "      <td>21.000</td>\n",
       "      <td>25.000</td>\n",
       "      <td>30.000</td>\n",
       "      <td>61.000</td>\n",
       "    </tr>\n",
       "    <tr>\n",
       "      <th>X3PointShots.</th>\n",
       "      <td>9840.0</td>\n",
       "      <td>0.354321</td>\n",
       "      <td>0.097782</td>\n",
       "      <td>0.000</td>\n",
       "      <td>0.290</td>\n",
       "      <td>0.353</td>\n",
       "      <td>0.419</td>\n",
       "      <td>0.750</td>\n",
       "    </tr>\n",
       "    <tr>\n",
       "      <th>FreeThrows</th>\n",
       "      <td>9840.0</td>\n",
       "      <td>17.320630</td>\n",
       "      <td>6.002620</td>\n",
       "      <td>1.000</td>\n",
       "      <td>13.000</td>\n",
       "      <td>17.000</td>\n",
       "      <td>21.000</td>\n",
       "      <td>44.000</td>\n",
       "    </tr>\n",
       "    <tr>\n",
       "      <th>FreeThrowsAttempted</th>\n",
       "      <td>9840.0</td>\n",
       "      <td>22.749390</td>\n",
       "      <td>7.390451</td>\n",
       "      <td>1.000</td>\n",
       "      <td>18.000</td>\n",
       "      <td>22.000</td>\n",
       "      <td>27.000</td>\n",
       "      <td>64.000</td>\n",
       "    </tr>\n",
       "    <tr>\n",
       "      <th>FreeThrows.</th>\n",
       "      <td>9840.0</td>\n",
       "      <td>0.762395</td>\n",
       "      <td>0.104297</td>\n",
       "      <td>0.143</td>\n",
       "      <td>0.696</td>\n",
       "      <td>0.769</td>\n",
       "      <td>0.833</td>\n",
       "      <td>1.000</td>\n",
       "    </tr>\n",
       "    <tr>\n",
       "      <th>OffRebounds</th>\n",
       "      <td>9840.0</td>\n",
       "      <td>10.287602</td>\n",
       "      <td>3.807120</td>\n",
       "      <td>0.000</td>\n",
       "      <td>8.000</td>\n",
       "      <td>10.000</td>\n",
       "      <td>13.000</td>\n",
       "      <td>38.000</td>\n",
       "    </tr>\n",
       "    <tr>\n",
       "      <th>TotalRebounds</th>\n",
       "      <td>9840.0</td>\n",
       "      <td>43.520630</td>\n",
       "      <td>6.410428</td>\n",
       "      <td>20.000</td>\n",
       "      <td>39.000</td>\n",
       "      <td>43.000</td>\n",
       "      <td>48.000</td>\n",
       "      <td>81.000</td>\n",
       "    </tr>\n",
       "    <tr>\n",
       "      <th>Assists</th>\n",
       "      <td>9840.0</td>\n",
       "      <td>22.546545</td>\n",
       "      <td>5.122989</td>\n",
       "      <td>6.000</td>\n",
       "      <td>19.000</td>\n",
       "      <td>22.000</td>\n",
       "      <td>26.000</td>\n",
       "      <td>47.000</td>\n",
       "    </tr>\n",
       "    <tr>\n",
       "      <th>Steals</th>\n",
       "      <td>9840.0</td>\n",
       "      <td>7.750508</td>\n",
       "      <td>2.958886</td>\n",
       "      <td>0.000</td>\n",
       "      <td>6.000</td>\n",
       "      <td>8.000</td>\n",
       "      <td>10.000</td>\n",
       "      <td>21.000</td>\n",
       "    </tr>\n",
       "    <tr>\n",
       "      <th>Blocks</th>\n",
       "      <td>9840.0</td>\n",
       "      <td>4.827642</td>\n",
       "      <td>2.536845</td>\n",
       "      <td>0.000</td>\n",
       "      <td>3.000</td>\n",
       "      <td>5.000</td>\n",
       "      <td>6.000</td>\n",
       "      <td>18.000</td>\n",
       "    </tr>\n",
       "    <tr>\n",
       "      <th>Turnovers</th>\n",
       "      <td>9840.0</td>\n",
       "      <td>13.638618</td>\n",
       "      <td>3.869543</td>\n",
       "      <td>2.000</td>\n",
       "      <td>11.000</td>\n",
       "      <td>13.000</td>\n",
       "      <td>16.000</td>\n",
       "      <td>29.000</td>\n",
       "    </tr>\n",
       "    <tr>\n",
       "      <th>TotalFouls</th>\n",
       "      <td>9840.0</td>\n",
       "      <td>20.058537</td>\n",
       "      <td>4.317611</td>\n",
       "      <td>7.000</td>\n",
       "      <td>17.000</td>\n",
       "      <td>20.000</td>\n",
       "      <td>23.000</td>\n",
       "      <td>42.000</td>\n",
       "    </tr>\n",
       "    <tr>\n",
       "      <th>Opp.FieldGoals</th>\n",
       "      <td>9840.0</td>\n",
       "      <td>38.602439</td>\n",
       "      <td>5.029992</td>\n",
       "      <td>19.000</td>\n",
       "      <td>35.000</td>\n",
       "      <td>38.000</td>\n",
       "      <td>42.000</td>\n",
       "      <td>58.000</td>\n",
       "    </tr>\n",
       "    <tr>\n",
       "      <th>Opp.FieldGoalsAttempted</th>\n",
       "      <td>9840.0</td>\n",
       "      <td>84.902439</td>\n",
       "      <td>7.130043</td>\n",
       "      <td>60.000</td>\n",
       "      <td>80.000</td>\n",
       "      <td>85.000</td>\n",
       "      <td>89.000</td>\n",
       "      <td>129.000</td>\n",
       "    </tr>\n",
       "    <tr>\n",
       "      <th>Opp.FieldGoals.</th>\n",
       "      <td>9840.0</td>\n",
       "      <td>0.455689</td>\n",
       "      <td>0.054711</td>\n",
       "      <td>0.271</td>\n",
       "      <td>0.418</td>\n",
       "      <td>0.455</td>\n",
       "      <td>0.494</td>\n",
       "      <td>0.684</td>\n",
       "    </tr>\n",
       "    <tr>\n",
       "      <th>Opp.3PointShots</th>\n",
       "      <td>9840.0</td>\n",
       "      <td>9.126829</td>\n",
       "      <td>3.598084</td>\n",
       "      <td>0.000</td>\n",
       "      <td>7.000</td>\n",
       "      <td>9.000</td>\n",
       "      <td>11.000</td>\n",
       "      <td>25.000</td>\n",
       "    </tr>\n",
       "    <tr>\n",
       "      <th>Opp.3PointShotsAttempted</th>\n",
       "      <td>9840.0</td>\n",
       "      <td>25.623679</td>\n",
       "      <td>7.102501</td>\n",
       "      <td>4.000</td>\n",
       "      <td>21.000</td>\n",
       "      <td>25.000</td>\n",
       "      <td>30.000</td>\n",
       "      <td>61.000</td>\n",
       "    </tr>\n",
       "    <tr>\n",
       "      <th>Opp.3PointShots.</th>\n",
       "      <td>9840.0</td>\n",
       "      <td>0.354321</td>\n",
       "      <td>0.097782</td>\n",
       "      <td>0.000</td>\n",
       "      <td>0.290</td>\n",
       "      <td>0.353</td>\n",
       "      <td>0.419</td>\n",
       "      <td>0.750</td>\n",
       "    </tr>\n",
       "    <tr>\n",
       "      <th>Opp.FreeThrows</th>\n",
       "      <td>9840.0</td>\n",
       "      <td>17.320630</td>\n",
       "      <td>6.002620</td>\n",
       "      <td>1.000</td>\n",
       "      <td>13.000</td>\n",
       "      <td>17.000</td>\n",
       "      <td>21.000</td>\n",
       "      <td>44.000</td>\n",
       "    </tr>\n",
       "    <tr>\n",
       "      <th>Opp.FreeThrowsAttempted</th>\n",
       "      <td>9840.0</td>\n",
       "      <td>22.749390</td>\n",
       "      <td>7.390451</td>\n",
       "      <td>1.000</td>\n",
       "      <td>18.000</td>\n",
       "      <td>22.000</td>\n",
       "      <td>27.000</td>\n",
       "      <td>64.000</td>\n",
       "    </tr>\n",
       "    <tr>\n",
       "      <th>Opp.FreeThrows.</th>\n",
       "      <td>9840.0</td>\n",
       "      <td>0.762395</td>\n",
       "      <td>0.104297</td>\n",
       "      <td>0.143</td>\n",
       "      <td>0.696</td>\n",
       "      <td>0.769</td>\n",
       "      <td>0.833</td>\n",
       "      <td>1.000</td>\n",
       "    </tr>\n",
       "    <tr>\n",
       "      <th>Opp.OffRebounds</th>\n",
       "      <td>9840.0</td>\n",
       "      <td>10.287602</td>\n",
       "      <td>3.807120</td>\n",
       "      <td>0.000</td>\n",
       "      <td>8.000</td>\n",
       "      <td>10.000</td>\n",
       "      <td>13.000</td>\n",
       "      <td>38.000</td>\n",
       "    </tr>\n",
       "    <tr>\n",
       "      <th>Opp.TotalRebounds</th>\n",
       "      <td>9840.0</td>\n",
       "      <td>43.520630</td>\n",
       "      <td>6.410428</td>\n",
       "      <td>20.000</td>\n",
       "      <td>39.000</td>\n",
       "      <td>43.000</td>\n",
       "      <td>48.000</td>\n",
       "      <td>81.000</td>\n",
       "    </tr>\n",
       "    <tr>\n",
       "      <th>Opp.Assists</th>\n",
       "      <td>9840.0</td>\n",
       "      <td>22.546545</td>\n",
       "      <td>5.122989</td>\n",
       "      <td>6.000</td>\n",
       "      <td>19.000</td>\n",
       "      <td>22.000</td>\n",
       "      <td>26.000</td>\n",
       "      <td>47.000</td>\n",
       "    </tr>\n",
       "    <tr>\n",
       "      <th>Opp.Steals</th>\n",
       "      <td>9840.0</td>\n",
       "      <td>7.750508</td>\n",
       "      <td>2.958886</td>\n",
       "      <td>0.000</td>\n",
       "      <td>6.000</td>\n",
       "      <td>8.000</td>\n",
       "      <td>10.000</td>\n",
       "      <td>21.000</td>\n",
       "    </tr>\n",
       "    <tr>\n",
       "      <th>Opp.Blocks</th>\n",
       "      <td>9840.0</td>\n",
       "      <td>4.827642</td>\n",
       "      <td>2.536845</td>\n",
       "      <td>0.000</td>\n",
       "      <td>3.000</td>\n",
       "      <td>5.000</td>\n",
       "      <td>6.000</td>\n",
       "      <td>18.000</td>\n",
       "    </tr>\n",
       "    <tr>\n",
       "      <th>Opp.Turnovers</th>\n",
       "      <td>9840.0</td>\n",
       "      <td>13.638618</td>\n",
       "      <td>3.869543</td>\n",
       "      <td>2.000</td>\n",
       "      <td>11.000</td>\n",
       "      <td>13.000</td>\n",
       "      <td>16.000</td>\n",
       "      <td>29.000</td>\n",
       "    </tr>\n",
       "    <tr>\n",
       "      <th>Opp.TotalFouls</th>\n",
       "      <td>9840.0</td>\n",
       "      <td>20.058537</td>\n",
       "      <td>4.317611</td>\n",
       "      <td>7.000</td>\n",
       "      <td>17.000</td>\n",
       "      <td>20.000</td>\n",
       "      <td>23.000</td>\n",
       "      <td>42.000</td>\n",
       "    </tr>\n",
       "  </tbody>\n",
       "</table>\n",
       "</div>"
      ],
      "text/plain": [
       "                           count          mean           std     min  \\\n",
       "Unnamed: 0                9840.0  11960.157012  18654.867508   1.000   \n",
       "Game                      9840.0     41.500000     23.670804   1.000   \n",
       "TeamPoints                9840.0    103.652337     12.188043  64.000   \n",
       "OpponentPoints            9840.0    103.652337     12.188043  64.000   \n",
       "FieldGoals                9840.0     38.602439      5.029992  19.000   \n",
       "FieldGoalsAttempted       9840.0     84.902439      7.130043  60.000   \n",
       "FieldGoals.               9840.0      0.455689      0.054711   0.271   \n",
       "X3PointShots              9840.0      9.126829      3.598084   0.000   \n",
       "X3PointShotsAttempted     9840.0     25.623679      7.102501   4.000   \n",
       "X3PointShots.             9840.0      0.354321      0.097782   0.000   \n",
       "FreeThrows                9840.0     17.320630      6.002620   1.000   \n",
       "FreeThrowsAttempted       9840.0     22.749390      7.390451   1.000   \n",
       "FreeThrows.               9840.0      0.762395      0.104297   0.143   \n",
       "OffRebounds               9840.0     10.287602      3.807120   0.000   \n",
       "TotalRebounds             9840.0     43.520630      6.410428  20.000   \n",
       "Assists                   9840.0     22.546545      5.122989   6.000   \n",
       "Steals                    9840.0      7.750508      2.958886   0.000   \n",
       "Blocks                    9840.0      4.827642      2.536845   0.000   \n",
       "Turnovers                 9840.0     13.638618      3.869543   2.000   \n",
       "TotalFouls                9840.0     20.058537      4.317611   7.000   \n",
       "Opp.FieldGoals            9840.0     38.602439      5.029992  19.000   \n",
       "Opp.FieldGoalsAttempted   9840.0     84.902439      7.130043  60.000   \n",
       "Opp.FieldGoals.           9840.0      0.455689      0.054711   0.271   \n",
       "Opp.3PointShots           9840.0      9.126829      3.598084   0.000   \n",
       "Opp.3PointShotsAttempted  9840.0     25.623679      7.102501   4.000   \n",
       "Opp.3PointShots.          9840.0      0.354321      0.097782   0.000   \n",
       "Opp.FreeThrows            9840.0     17.320630      6.002620   1.000   \n",
       "Opp.FreeThrowsAttempted   9840.0     22.749390      7.390451   1.000   \n",
       "Opp.FreeThrows.           9840.0      0.762395      0.104297   0.143   \n",
       "Opp.OffRebounds           9840.0     10.287602      3.807120   0.000   \n",
       "Opp.TotalRebounds         9840.0     43.520630      6.410428  20.000   \n",
       "Opp.Assists               9840.0     22.546545      5.122989   6.000   \n",
       "Opp.Steals                9840.0      7.750508      2.958886   0.000   \n",
       "Opp.Blocks                9840.0      4.827642      2.536845   0.000   \n",
       "Opp.Turnovers             9840.0     13.638618      3.869543   2.000   \n",
       "Opp.TotalFouls            9840.0     20.058537      4.317611   7.000   \n",
       "\n",
       "                               25%       50%       75%        max  \n",
       "Unnamed: 0                2537.750  5141.500  7715.250  82119.000  \n",
       "Game                        21.000    41.500    62.000     82.000  \n",
       "TeamPoints                  95.000   103.000   112.000    149.000  \n",
       "OpponentPoints              95.000   103.000   112.000    149.000  \n",
       "FieldGoals                  35.000    38.000    42.000     58.000  \n",
       "FieldGoalsAttempted         80.000    85.000    89.000    129.000  \n",
       "FieldGoals.                  0.418     0.455     0.494      0.684  \n",
       "X3PointShots                 7.000     9.000    11.000     25.000  \n",
       "X3PointShotsAttempted       21.000    25.000    30.000     61.000  \n",
       "X3PointShots.                0.290     0.353     0.419      0.750  \n",
       "FreeThrows                  13.000    17.000    21.000     44.000  \n",
       "FreeThrowsAttempted         18.000    22.000    27.000     64.000  \n",
       "FreeThrows.                  0.696     0.769     0.833      1.000  \n",
       "OffRebounds                  8.000    10.000    13.000     38.000  \n",
       "TotalRebounds               39.000    43.000    48.000     81.000  \n",
       "Assists                     19.000    22.000    26.000     47.000  \n",
       "Steals                       6.000     8.000    10.000     21.000  \n",
       "Blocks                       3.000     5.000     6.000     18.000  \n",
       "Turnovers                   11.000    13.000    16.000     29.000  \n",
       "TotalFouls                  17.000    20.000    23.000     42.000  \n",
       "Opp.FieldGoals              35.000    38.000    42.000     58.000  \n",
       "Opp.FieldGoalsAttempted     80.000    85.000    89.000    129.000  \n",
       "Opp.FieldGoals.              0.418     0.455     0.494      0.684  \n",
       "Opp.3PointShots              7.000     9.000    11.000     25.000  \n",
       "Opp.3PointShotsAttempted    21.000    25.000    30.000     61.000  \n",
       "Opp.3PointShots.             0.290     0.353     0.419      0.750  \n",
       "Opp.FreeThrows              13.000    17.000    21.000     44.000  \n",
       "Opp.FreeThrowsAttempted     18.000    22.000    27.000     64.000  \n",
       "Opp.FreeThrows.              0.696     0.769     0.833      1.000  \n",
       "Opp.OffRebounds              8.000    10.000    13.000     38.000  \n",
       "Opp.TotalRebounds           39.000    43.000    48.000     81.000  \n",
       "Opp.Assists                 19.000    22.000    26.000     47.000  \n",
       "Opp.Steals                   6.000     8.000    10.000     21.000  \n",
       "Opp.Blocks                   3.000     5.000     6.000     18.000  \n",
       "Opp.Turnovers               11.000    13.000    16.000     29.000  \n",
       "Opp.TotalFouls              17.000    20.000    23.000     42.000  "
      ]
     },
     "execution_count": 6,
     "metadata": {},
     "output_type": "execute_result"
    }
   ],
   "source": [
    "#looking at the summary statistics of all the numeric columns\n",
    "nba.describe().T"
   ]
  },
  {
   "cell_type": "code",
   "execution_count": 7,
   "metadata": {},
   "outputs": [
    {
     "data": {
      "image/png": "[encoded data removed]",
      "text/plain": [
       "<Figure size 432x288 with 1 Axes>"
      ]
     },
     "metadata": {
      "needs_background": "light"
     },
     "output_type": "display_data"
    },
    {
     "data": {
      "image/png": "[encoded data removed]",
      "text/plain": [
       "<Figure size 432x288 with 1 Axes>"
      ]
     },
     "metadata": {
      "needs_background": "light"
     },
     "output_type": "display_data"
    },
    {
     "data": {
      "image/png": "[encoded data removed]",
      "text/plain": [
       "<Figure size 432x288 with 1 Axes>"
      ]
     },
     "metadata": {
      "needs_background": "light"
     },
     "output_type": "display_data"
    },
    {
     "data": {
      "image/png": "[encoded data removed]",
      "text/plain": [
       "<Figure size 432x288 with 1 Axes>"
      ]
     },
     "metadata": {
      "needs_background": "light"
     },
     "output_type": "display_data"
    },
    {
     "data": {
      "image/png": "[encoded data removed]",
      "text/plain": [
       "<Figure size 432x288 with 1 Axes>"
      ]
     },
     "metadata": {
      "needs_background": "light"
     },
     "output_type": "display_data"
    },
    {
     "data": {
      "image/png": "[encoded data removed]",
      "text/plain": [
       "<Figure size 432x288 with 1 Axes>"
      ]
     },
     "metadata": {
      "needs_background": "light"
     },
     "output_type": "display_data"
    },
    {
     "data": {
      "image/png": "[encoded data removed]",
      "text/plain": [
       "<Figure size 432x288 with 1 Axes>"
      ]
     },
     "metadata": {
      "needs_background": "light"
     },
     "output_type": "display_data"
    },
    {
     "data": {
      "image/png": "[encoded data removed]",
      "text/plain": [
       "<Figure size 432x288 with 1 Axes>"
      ]
     },
     "metadata": {
      "needs_background": "light"
     },
     "output_type": "display_data"
    },
    {
     "data": {
      "image/png": "[encoded data removed]",
      "text/plain": [
       "<Figure size 432x288 with 1 Axes>"
      ]
     },
     "metadata": {
      "needs_background": "light"
     },
     "output_type": "display_data"
    },
    {
     "data": {
      "image/png": "[encoded data removed]",
      "text/plain": [
       "<Figure size 432x288 with 1 Axes>"
      ]
     },
     "metadata": {
      "needs_background": "light"
     },
     "output_type": "display_data"
    },
    {
     "data": {
      "image/png": "[encoded data removed]",
      "text/plain": [
       "<Figure size 432x288 with 1 Axes>"
      ]
     },
     "metadata": {
      "needs_background": "light"
     },
     "output_type": "display_data"
    },
    {
     "data": {
      "image/png": "[encoded data removed]",
      "text/plain": [
       "<Figure size 432x288 with 1 Axes>"
      ]
     },
     "metadata": {
      "needs_background": "light"
     },
     "output_type": "display_data"
    },
    {
     "data": {
      "image/png": "[encoded data removed]",
      "text/plain": [
       "<Figure size 432x288 with 1 Axes>"
      ]
     },
     "metadata": {
      "needs_background": "light"
     },
     "output_type": "display_data"
    },
    {
     "data": {
      "image/png": "[encoded data removed]",
      "text/plain": [
       "<Figure size 432x288 with 1 Axes>"
      ]
     },
     "metadata": {
      "needs_background": "light"
     },
     "output_type": "display_data"
    },
    {
     "data": {
      "image/png": "[encoded data removed]",
      "text/plain": [
       "<Figure size 432x288 with 1 Axes>"
      ]
     },
     "metadata": {
      "needs_background": "light"
     },
     "output_type": "display_data"
    },
    {
     "data": {
      "image/png": "[encoded data removed]",
      "text/plain": [
       "<Figure size 432x288 with 1 Axes>"
      ]
     },
     "metadata": {
      "needs_background": "light"
     },
     "output_type": "display_data"
    },
    {
     "data": {
      "image/png": "[encoded data removed]",
      "text/plain": [
       "<Figure size 432x288 with 1 Axes>"
      ]
     },
     "metadata": {
      "needs_background": "light"
     },
     "output_type": "display_data"
    },
    {
     "data": {
      "image/png": "[encoded data removed]",
      "text/plain": [
       "<Figure size 432x288 with 1 Axes>"
      ]
     },
     "metadata": {
      "needs_background": "light"
     },
     "output_type": "display_data"
    },
    {
     "data": {
      "image/png": "[encoded data removed]",
      "text/plain": [
       "<Figure size 432x288 with 1 Axes>"
      ]
     },
     "metadata": {
      "needs_background": "light"
     },
     "output_type": "display_data"
    },
    {
     "data": {
      "image/png": "[encoded data removed]",
      "text/plain": [
       "<Figure size 432x288 with 1 Axes>"
      ]
     },
     "metadata": {
      "needs_background": "light"
     },
     "output_type": "display_data"
    },
    {
     "data": {
      "image/png": "[encoded data removed]",
      "text/plain": [
       "<Figure size 432x288 with 1 Axes>"
      ]
     },
     "metadata": {
      "needs_background": "light"
     },
     "output_type": "display_data"
    },
    {
     "data": {
      "image/png": "[encoded data removed]",
      "text/plain": [
       "<Figure size 432x288 with 1 Axes>"
      ]
     },
     "metadata": {
      "needs_background": "light"
     },
     "output_type": "display_data"
    },
    {
     "data": {
      "image/png": "[encoded data removed]",
      "text/plain": [
       "<Figure size 432x288 with 1 Axes>"
      ]
     },
     "metadata": {
      "needs_background": "light"
     },
     "output_type": "display_data"
    },
    {
     "data": {
      "image/png": "[encoded data removed]",
      "text/plain": [
       "<Figure size 432x288 with 1 Axes>"
      ]
     },
     "metadata": {
      "needs_background": "light"
     },
     "output_type": "display_data"
    },
    {
     "data": {
      "image/png": "[encoded data removed]",
      "text/plain": [
       "<Figure size 432x288 with 1 Axes>"
      ]
     },
     "metadata": {
      "needs_background": "light"
     },
     "output_type": "display_data"
    },
    {
     "data": {
      "image/png": "[encoded data removed]",
      "text/plain": [
       "<Figure size 432x288 with 1 Axes>"
      ]
     },
     "metadata": {
      "needs_background": "light"
     },
     "output_type": "display_data"
    },
    {
     "data": {
      "image/png": "[encoded data removed]",
      "text/plain": [
       "<Figure size 432x288 with 1 Axes>"
      ]
     },
     "metadata": {
      "needs_background": "light"
     },
     "output_type": "display_data"
    },
    {
     "data": {
      "image/png": "[encoded data removed]",
      "text/plain": [
       "<Figure size 432x288 with 1 Axes>"
      ]
     },
     "metadata": {
      "needs_background": "light"
     },
     "output_type": "display_data"
    },
    {
     "data": {
      "image/png": "[encoded data removed]",
      "text/plain": [
       "<Figure size 432x288 with 1 Axes>"
      ]
     },
     "metadata": {
      "needs_background": "light"
     },
     "output_type": "display_data"
    },
    {
     "data": {
      "image/png": "[encoded data removed]",
      "text/plain": [
       "<Figure size 432x288 with 1 Axes>"
      ]
     },
     "metadata": {
      "needs_background": "light"
     },
     "output_type": "display_data"
    }
   ],
   "source": [
    "num_cols = nba.columns[[nba[col].dtype == 'int64' for col in nba.columns]]\n",
    "for col in num_cols:\n",
    "    plt.hist(nba[col])\n",
    "    plt.title(col)\n",
    "    plt.show()"
   ]
  },
  {
   "cell_type": "markdown",
   "metadata": {},
   "source": [
    "<div class=\"alert alert-block alert-info\">\n",
    "    \n",
    "- We will delete unnamed column because it wont be necessary\n",
    "- We won't need game number because it will be in the index\n",
    "- Four seasons worth of data, we could look into splitting up the seasons\n",
    "- No null values, BIG PLUS!\n",
    "- Some outliers but its just a part of the game. Will keep all the data but could consider removing the outliers later\n",
    "- Normal distribution for all of the numerical columns\n",
    "</div>"
   ]
  },
  {
   "cell_type": "markdown",
   "metadata": {},
   "source": [
    "_____"
   ]
  },
  {
   "cell_type": "markdown",
   "metadata": {},
   "source": [
    "## Prepare"
   ]
  },
  {
   "cell_type": "markdown",
   "metadata": {},
   "source": [
    "<div class=\"alert alert-block alert-info\">\n",
    "    \n",
    "- adding two columns called home_is_west and away_is_west for teams playing in different conferences\n",
    "- Changed Home, Conference, Opp.Conference and Wins into dummy variables\n",
    "- dropped dates and columns that deal with point totals to not skew the models to predict who wins\n",
    "- split into train, validate and test\n",
    "</div>"
   ]
  },
  {
   "cell_type": "markdown",
   "metadata": {},
   "source": [
    "____"
   ]
  },
  {
   "cell_type": "markdown",
   "metadata": {},
   "source": [
    "## Explore"
   ]
  },
  {
   "cell_type": "code",
   "execution_count": 8,
   "metadata": {},
   "outputs": [],
   "source": [
    "train, validate, test = wrangle_nba()"
   ]
  },
  {
   "cell_type": "code",
   "execution_count": 83,
   "metadata": {},
   "outputs": [
    {
     "name": "stdout",
     "output_type": "stream",
     "text": [
      "<class 'pandas.core.frame.DataFrame'>\n",
      "Int64Index: 5510 entries, 7641 to 7822\n",
      "Data columns (total 26 columns):\n",
      " #   Column             Non-Null Count  Dtype  \n",
      "---  ------             --------------  -----  \n",
      " 0   Team               5510 non-null   object \n",
      " 1   Opponent           5510 non-null   object \n",
      " 2   FieldGoals.        5510 non-null   float64\n",
      " 3   X3PointShots.      5510 non-null   float64\n",
      " 4   FreeThrows.        5510 non-null   float64\n",
      " 5   OffRebounds        5510 non-null   int64  \n",
      " 6   TotalRebounds      5510 non-null   int64  \n",
      " 7   Assists            5510 non-null   int64  \n",
      " 8   Steals             5510 non-null   int64  \n",
      " 9   Blocks             5510 non-null   int64  \n",
      " 10  Turnovers          5510 non-null   int64  \n",
      " 11  TotalFouls         5510 non-null   int64  \n",
      " 12  Opp.FieldGoals.    5510 non-null   float64\n",
      " 13  Opp.3PointShots.   5510 non-null   float64\n",
      " 14  Opp.FreeThrows.    5510 non-null   float64\n",
      " 15  Opp.OffRebounds    5510 non-null   int64  \n",
      " 16  Opp.TotalRebounds  5510 non-null   int64  \n",
      " 17  Opp.Assists        5510 non-null   int64  \n",
      " 18  Opp.Steals         5510 non-null   int64  \n",
      " 19  Opp.Blocks         5510 non-null   int64  \n",
      " 20  Opp.Turnovers      5510 non-null   int64  \n",
      " 21  Opp.TotalFouls     5510 non-null   int64  \n",
      " 22  home_is_west       5510 non-null   uint8  \n",
      " 23  away_is_west       5510 non-null   uint8  \n",
      " 24  Home               5510 non-null   uint8  \n",
      " 25  W                  5510 non-null   uint8  \n",
      "dtypes: float64(6), int64(14), object(2), uint8(4)\n",
      "memory usage: 1.1+ MB\n"
     ]
    }
   ],
   "source": [
    "train.info()"
   ]
  },
  {
   "cell_type": "code",
   "execution_count": 9,
   "metadata": {},
   "outputs": [
    {
     "data": {
      "text/plain": [
       "((5510, 26), (2362, 26), (1968, 26))"
      ]
     },
     "execution_count": 9,
     "metadata": {},
     "output_type": "execute_result"
    }
   ],
   "source": [
    "train.shape, validate.shape, test.shape"
   ]
  },
  {
   "cell_type": "code",
   "execution_count": 10,
   "metadata": {},
   "outputs": [
    {
     "data": {
      "image/png": "[encoded data removed]",
      "text/plain": [
       "<Figure size 1440x864 with 2 Axes>"
      ]
     },
     "metadata": {
      "needs_background": "light"
     },
     "output_type": "display_data"
    }
   ],
   "source": [
    "corr = train.corr()\n",
    "mask = np.triu(np.ones_like(corr, dtype=bool))\n",
    "plt.figure(figsize=(20,12))\n",
    "sns.heatmap(train.corr(), cmap='Purples', annot=True, mask=mask)\n",
    "plt.show()"
   ]
  },
  {
   "cell_type": "markdown",
   "metadata": {},
   "source": [
    "- fieldgoal%, assist, 3point% and totalrebounds have the highest positive correlation\n",
    "- oppfieldgoal%, oppassist, opp3point% and opptotalrebounds have lowest negative correlation\n",
    "- offrebounds, oppoffrebounds, homeiswest and awayiswest seem to have no correlation\n",
    "- Let's test and see if there is a significant difference in the features that are the \"middle of the pack\" correlation\n",
    "    - `FreeThrows.`\n",
    "    - `OffRebounds`\n",
    "    - `Turnovers`\n",
    "    - `TotalFouls`\n",
    "    - `Home`"
   ]
  },
  {
   "cell_type": "markdown",
   "metadata": {},
   "source": [
    "___"
   ]
  },
  {
   "cell_type": "markdown",
   "metadata": {},
   "source": [
    "### Is there a relationship between wins and home games?\n",
    "\n",
    "- **$H_0$:** There is no dependence between wins and home games\n",
    "- **$H_a$:** There is a dependence between wins and home games"
   ]
  },
  {
   "cell_type": "code",
   "execution_count": 11,
   "metadata": {},
   "outputs": [],
   "source": [
    "alpha = 0.01"
   ]
  },
  {
   "cell_type": "code",
   "execution_count": 12,
   "metadata": {},
   "outputs": [],
   "source": [
    "observed = pd.crosstab(train.W, train.Home)"
   ]
  },
  {
   "cell_type": "code",
   "execution_count": 13,
   "metadata": {},
   "outputs": [],
   "source": [
    "chi2, p, degf, expected = stats.chi2_contingency(observed)"
   ]
  },
  {
   "cell_type": "code",
   "execution_count": 14,
   "metadata": {},
   "outputs": [
    {
     "name": "stdout",
     "output_type": "stream",
     "text": [
      "We reject the null hypothesis\n"
     ]
    },
    {
     "data": {
      "text/plain": [
       "4.001906157687878e-33"
      ]
     },
     "execution_count": 14,
     "metadata": {},
     "output_type": "execute_result"
    }
   ],
   "source": [
    "if p < alpha:\n",
    "    print(\"We reject the null hypothesis\")\n",
    "else:\n",
    "    print(\"We fail to reject the null hypothesis\")\n",
    "p"
   ]
  },
  {
   "cell_type": "code",
   "execution_count": 15,
   "metadata": {},
   "outputs": [
    {
     "data": {
      "image/png": "[encoded data removed]",
      "text/plain": [
       "<Figure size 402.375x360 with 1 Axes>"
      ]
     },
     "metadata": {
      "needs_background": "light"
     },
     "output_type": "display_data"
    }
   ],
   "source": [
    "sns.catplot(x=\"W\", hue=\"Home\", kind=\"count\", data=train)\n",
    "plt.title('Does being at Home Improve your Win Chance?')\n",
    "plt.ylabel('# of Games')\n",
    "plt.xlabel('Loss or Win')\n",
    "plt.show()"
   ]
  },
  {
   "cell_type": "code",
   "execution_count": 16,
   "metadata": {},
   "outputs": [
    {
     "name": "stdout",
     "output_type": "stream",
     "text": [
      "1    1591\n",
      "0    1164\n",
      "Name: Home, dtype: int64\n",
      "The ratio of wins to losses at Home is 0.5774954627949184\n"
     ]
    }
   ],
   "source": [
    "print(train[train.W == 1].Home.value_counts())\n",
    "print(\"The ratio of wins to losses at Home is\", 1591/(1591+1164))"
   ]
  },
  {
   "cell_type": "code",
   "execution_count": 17,
   "metadata": {},
   "outputs": [
    {
     "name": "stdout",
     "output_type": "stream",
     "text": [
      "0    1610\n",
      "1    1145\n",
      "Name: Home, dtype: int64\n",
      "The ratio of wins to losses Away is 0.41560798548094374\n"
     ]
    }
   ],
   "source": [
    "print(train[train.W == 0].Home.value_counts())\n",
    "print(\"The ratio of wins to losses Away is\", 1145/(1145+1610))"
   ]
  },
  {
   "cell_type": "markdown",
   "metadata": {},
   "source": [
    "#### Takeaways:\n",
    "- The difference between 58% and 42% is pretty significant in regards to win percentage\n",
    "- The evidence suggest that wins and being at home have some sort of relationship/dependence. "
   ]
  },
  {
   "cell_type": "markdown",
   "metadata": {},
   "source": [
    "___"
   ]
  },
  {
   "cell_type": "markdown",
   "metadata": {},
   "source": [
    "### Do winning teams have the same number of turnovers as losing teams?\n",
    "\n",
    "- **$H_0$:** Win or Lose teams have the same number of turnovers\n",
    "- **$H_a$:** Win or Lose teams do not have the same number of turnovers."
   ]
  },
  {
   "cell_type": "code",
   "execution_count": 18,
   "metadata": {},
   "outputs": [],
   "source": [
    "win = train[train.W == 1]\n",
    "lose = train[train.W == 0]\n",
    "\n",
    "t, p = stats.ttest_ind(win['Turnovers'], lose['Turnovers'])"
   ]
  },
  {
   "cell_type": "code",
   "execution_count": 19,
   "metadata": {},
   "outputs": [
    {
     "name": "stdout",
     "output_type": "stream",
     "text": [
      "We reject the null hypothesis\n"
     ]
    },
    {
     "data": {
      "text/plain": [
       "4.54985278617686e-18"
      ]
     },
     "execution_count": 19,
     "metadata": {},
     "output_type": "execute_result"
    }
   ],
   "source": [
    "if p < alpha:\n",
    "    print(\"We reject the null hypothesis\")\n",
    "else:\n",
    "    print(\"We fail to reject the null hypothesis\")\n",
    "p"
   ]
  },
  {
   "cell_type": "code",
   "execution_count": 20,
   "metadata": {},
   "outputs": [
    {
     "data": {
      "image/png": "[encoded data removed]",
      "text/plain": [
       "<Figure size 360x360 with 1 Axes>"
      ]
     },
     "metadata": {
      "needs_background": "light"
     },
     "output_type": "display_data"
    }
   ],
   "source": [
    "sns.catplot(x=\"W\", y=\"Turnovers\", kind=\"bar\", data=train)\n",
    "plt.title('Do Winning Teams commit less turnovers than Losing Teams?')\n",
    "plt.xlabel('Win or Lose')\n",
    "plt.ylabel('# of Turnovers')\n",
    "plt.show()"
   ]
  },
  {
   "cell_type": "code",
   "execution_count": 21,
   "metadata": {},
   "outputs": [
    {
     "name": "stdout",
     "output_type": "stream",
     "text": [
      "The average number of turnovers for winning teams is 13.216\n"
     ]
    }
   ],
   "source": [
    "print(\"The average number of turnovers for winning teams is\", round(win['Turnovers'].mean(),3))"
   ]
  },
  {
   "cell_type": "code",
   "execution_count": 22,
   "metadata": {},
   "outputs": [
    {
     "name": "stdout",
     "output_type": "stream",
     "text": [
      "The average number of turnovers for losing teams is 14.123\n"
     ]
    }
   ],
   "source": [
    "print(\"The average number of turnovers for losing teams is\", round(lose['Turnovers'].mean(),3))"
   ]
  },
  {
   "cell_type": "markdown",
   "metadata": {},
   "source": [
    "#### Takeaways:\n",
    "- On average, winning teams commit one less turnover than losing teams\n",
    "- Depending on how close games are, that turnover could be a 5-6 point swing in either direction\n",
    "- The evidence suggest there is a significant difference in the 1 turnover difference"
   ]
  },
  {
   "cell_type": "markdown",
   "metadata": {},
   "source": [
    "___"
   ]
  },
  {
   "cell_type": "markdown",
   "metadata": {},
   "source": [
    "### Do winning teams have the same number of fouls as losing teams?\n",
    "\n",
    "- **$H_0$:** Win or Lose teams have the same number of fouls\n",
    "- **$H_a$:** Win or Lose teams do not have the same number of fouls."
   ]
  },
  {
   "cell_type": "code",
   "execution_count": 23,
   "metadata": {},
   "outputs": [],
   "source": [
    "t, p = stats.ttest_ind(win['TotalFouls'], lose['TotalFouls'])"
   ]
  },
  {
   "cell_type": "code",
   "execution_count": 24,
   "metadata": {},
   "outputs": [
    {
     "name": "stdout",
     "output_type": "stream",
     "text": [
      "We reject the null hypothesis\n"
     ]
    },
    {
     "data": {
      "text/plain": [
       "5.74318331387638e-20"
      ]
     },
     "execution_count": 24,
     "metadata": {},
     "output_type": "execute_result"
    }
   ],
   "source": [
    "if p < alpha:\n",
    "    print(\"We reject the null hypothesis\")\n",
    "else:\n",
    "    print(\"We fail to reject the null hypothesis\")\n",
    "p"
   ]
  },
  {
   "cell_type": "code",
   "execution_count": 25,
   "metadata": {},
   "outputs": [
    {
     "data": {
      "image/png": "[encoded data removed]",
      "text/plain": [
       "<Figure size 360x360 with 1 Axes>"
      ]
     },
     "metadata": {
      "needs_background": "light"
     },
     "output_type": "display_data"
    }
   ],
   "source": [
    "sns.catplot(x=\"W\", y=\"TotalFouls\", kind=\"bar\", data=train)\n",
    "plt.title('Do Winning Teams have less Total Fouls than Losing Teams?')\n",
    "plt.xlabel('Win or Lose')\n",
    "plt.ylabel('# of Fouls')\n",
    "plt.show()"
   ]
  },
  {
   "cell_type": "code",
   "execution_count": 26,
   "metadata": {},
   "outputs": [
    {
     "name": "stdout",
     "output_type": "stream",
     "text": [
      "The average number of total fouls for winning teams is 19.472\n"
     ]
    }
   ],
   "source": [
    "print(\"The average number of total fouls for winning teams is\", round(win['TotalFouls'].mean(),3))"
   ]
  },
  {
   "cell_type": "code",
   "execution_count": 27,
   "metadata": {},
   "outputs": [
    {
     "name": "stdout",
     "output_type": "stream",
     "text": [
      "The average number of total fouls for losing teams is 20.539\n"
     ]
    }
   ],
   "source": [
    "print(\"The average number of total fouls for losing teams is\", round(lose['TotalFouls'].mean(),3))"
   ]
  },
  {
   "cell_type": "markdown",
   "metadata": {},
   "source": [
    "#### Takeaways:\n",
    "- On average, winning teams commit one less foul than losing teams\n",
    "- Some fouls are good fouls, preventing easy point to be scored and some fouls could end up in a 3-4 point play\n",
    "- The evidence suggest there is a significant difference in the 1 foul difference\n",
    "- Could that mean free throws make that much of a difference. "
   ]
  },
  {
   "cell_type": "markdown",
   "metadata": {},
   "source": [
    "___"
   ]
  },
  {
   "cell_type": "markdown",
   "metadata": {},
   "source": [
    "### Do winning teams have the same free throw percentage as losing teams?\n",
    "\n",
    "- **$H_0$:** Win or Lose teams shoot the same percentage of free throws\n",
    "- **$H_a$:** Win or Lose teams do not shoot the same percentage of free throws"
   ]
  },
  {
   "cell_type": "code",
   "execution_count": 28,
   "metadata": {},
   "outputs": [],
   "source": [
    "t, p = stats.ttest_ind(win['FreeThrows.'], lose['FreeThrows.'])"
   ]
  },
  {
   "cell_type": "code",
   "execution_count": 29,
   "metadata": {},
   "outputs": [
    {
     "name": "stdout",
     "output_type": "stream",
     "text": [
      "We reject the null hypothesis\n"
     ]
    },
    {
     "data": {
      "text/plain": [
       "3.7351428118864475e-17"
      ]
     },
     "execution_count": 29,
     "metadata": {},
     "output_type": "execute_result"
    }
   ],
   "source": [
    "if p < alpha:\n",
    "    print(\"We reject the null hypothesis\")\n",
    "else:\n",
    "    print(\"We fail to reject the null hypothesis\")\n",
    "p"
   ]
  },
  {
   "cell_type": "code",
   "execution_count": 30,
   "metadata": {},
   "outputs": [
    {
     "data": {
      "image/png": "[encoded data removed]",
      "text/plain": [
       "<Figure size 360x360 with 1 Axes>"
      ]
     },
     "metadata": {
      "needs_background": "light"
     },
     "output_type": "display_data"
    }
   ],
   "source": [
    "sns.catplot(x=\"W\", y=\"FreeThrows.\", kind=\"bar\", data=train)\n",
    "plt.title('Do Winning Teams shoot better free throws than Losing Teams?')\n",
    "plt.xlabel('Win or Lose')\n",
    "plt.ylabel('Free Throw %')\n",
    "plt.show()"
   ]
  },
  {
   "cell_type": "code",
   "execution_count": 31,
   "metadata": {},
   "outputs": [
    {
     "name": "stdout",
     "output_type": "stream",
     "text": [
      "The average rate of free throw makes for winning teams is 0.775\n"
     ]
    }
   ],
   "source": [
    "print(\"The average rate of free throw makes for winning teams is\", round(win['FreeThrows.'].mean(),3))"
   ]
  },
  {
   "cell_type": "code",
   "execution_count": 32,
   "metadata": {},
   "outputs": [
    {
     "name": "stdout",
     "output_type": "stream",
     "text": [
      "The average rate of free throw makes for losing teams is 0.752\n"
     ]
    }
   ],
   "source": [
    "print(\"The average rate of free throw makes for losing teams is\", round(lose['FreeThrows.'].mean(),3))"
   ]
  },
  {
   "cell_type": "markdown",
   "metadata": {},
   "source": [
    "#### Takeaways:\n",
    "- The difference between 78% and 75% seems almost too small to matter\n",
    "    - The statistical testing suggest otherwise\n",
    "- Winning teams do shoot slightly better\n",
    "    - maybe the few points is the difference to win a game\n",
    "- The evidence suggest there is a significant difference in free throw percentage between winning and losing teams"
   ]
  },
  {
   "cell_type": "markdown",
   "metadata": {},
   "source": [
    "___"
   ]
  },
  {
   "cell_type": "markdown",
   "metadata": {},
   "source": [
    "### Do winning teams have the same number of offensive rebounds as losing teams?\n",
    "\n",
    "- **$H_0$:** Win or Lose teams have the same number of offensive rebounds\n",
    "- **$H_a$:** Win or Lose teams do not have the same number of offensive rebounds."
   ]
  },
  {
   "cell_type": "code",
   "execution_count": 33,
   "metadata": {},
   "outputs": [],
   "source": [
    "t, p = stats.ttest_ind(win['OffRebounds'], lose['OffRebounds'])"
   ]
  },
  {
   "cell_type": "code",
   "execution_count": 34,
   "metadata": {},
   "outputs": [
    {
     "name": "stdout",
     "output_type": "stream",
     "text": [
      "We reject the null hypothesis\n"
     ]
    },
    {
     "data": {
      "text/plain": [
       "0.005496648630213486"
      ]
     },
     "execution_count": 34,
     "metadata": {},
     "output_type": "execute_result"
    }
   ],
   "source": [
    "if p < alpha:\n",
    "    print(\"We reject the null hypothesis\")\n",
    "else:\n",
    "    print(\"We fail to reject the null hypothesis\")\n",
    "p"
   ]
  },
  {
   "cell_type": "code",
   "execution_count": 35,
   "metadata": {},
   "outputs": [
    {
     "data": {
      "image/png": "[encoded data removed]",
      "text/plain": [
       "<Figure size 360x360 with 1 Axes>"
      ]
     },
     "metadata": {
      "needs_background": "light"
     },
     "output_type": "display_data"
    }
   ],
   "source": [
    "sns.catplot(x=\"W\", y=\"OffRebounds\", kind=\"bar\", data=train)\n",
    "plt.title('Do Winning Teams grab more offensive rebounds than Losing Teams?')\n",
    "plt.xlabel('Win or Lose')\n",
    "plt.ylabel('# of Offensive Rebounds')\n",
    "plt.show()"
   ]
  },
  {
   "cell_type": "code",
   "execution_count": 36,
   "metadata": {},
   "outputs": [
    {
     "name": "stdout",
     "output_type": "stream",
     "text": [
      "The average rate for offensive rebounds of winning teams is 10.061\n"
     ]
    }
   ],
   "source": [
    "print(\"The average rate for offensive rebounds of winning teams is\", round(win['OffRebounds'].mean(),3))"
   ]
  },
  {
   "cell_type": "code",
   "execution_count": 37,
   "metadata": {},
   "outputs": [
    {
     "name": "stdout",
     "output_type": "stream",
     "text": [
      "The average rate for offensive rebounds of winning teams is 10.347\n"
     ]
    }
   ],
   "source": [
    "print(\"The average rate for offensive rebounds of winning teams is\", round(lose['OffRebounds'].mean(),3))"
   ]
  },
  {
   "cell_type": "markdown",
   "metadata": {},
   "source": [
    "#### Takeaways:\n",
    "- The difference between 10.1 and 10.3% seems almost too small to matter\n",
    "    - The statistical testing suggest otherwise\n",
    "- Oddly enough, losing teams grab more offensive rebounds than winning teams\n",
    "    - maybe because they are missing more shots?\n",
    "- The evidence suggest there is a significant difference of offensive rebounds for winning and losing teams"
   ]
  },
  {
   "cell_type": "markdown",
   "metadata": {},
   "source": [
    "___"
   ]
  },
  {
   "cell_type": "markdown",
   "metadata": {},
   "source": [
    "### Summary of Exploration"
   ]
  },
  {
   "cell_type": "markdown",
   "metadata": {},
   "source": [
    "<div class=\"alert alert-block alert-info\">\n",
    "    \n",
    "- After some statistical testing, the data shows that there is\n",
    "    - a relationship between Home games and Wins\n",
    "    - a significant difference between Wins and\n",
    "        - Turnovers\n",
    "        - Fouls\n",
    "        - Free Throw Percentage\n",
    "        - Offensive Rebounds\n",
    "</div>"
   ]
  },
  {
   "cell_type": "markdown",
   "metadata": {},
   "source": [
    "___"
   ]
  },
  {
   "cell_type": "markdown",
   "metadata": {},
   "source": [
    "# Model "
   ]
  },
  {
   "cell_type": "markdown",
   "metadata": {},
   "source": [
    "We will import a function similar to the Prepare stage above except this function scales the data so we can obtain more accurate models and not have one feature have more influence than the others simply because it contains larger numbers"
   ]
  },
  {
   "cell_type": "code",
   "execution_count": 38,
   "metadata": {},
   "outputs": [],
   "source": [
    "train_scaled, validate_scaled, test_scaled = scaled_wrangle_nba()"
   ]
  },
  {
   "cell_type": "markdown",
   "metadata": {},
   "source": [
    "## Train"
   ]
  },
  {
   "cell_type": "code",
   "execution_count": 39,
   "metadata": {},
   "outputs": [],
   "source": [
    "X_train = train_scaled.drop(columns = ['Team', 'Opponent', 'W'])\n",
    "y_train = train_scaled.W"
   ]
  },
  {
   "cell_type": "markdown",
   "metadata": {},
   "source": [
    "- On the first model we are going to try all the variables and see which have the most influence on the model\n",
    "- Dropping the categorical variables `Team` and `Opponent`"
   ]
  },
  {
   "cell_type": "markdown",
   "metadata": {},
   "source": [
    "### Setting the Baseline"
   ]
  },
  {
   "cell_type": "code",
   "execution_count": 40,
   "metadata": {},
   "outputs": [],
   "source": [
    "train_scaled['baseline'] = train_scaled.W.value_counts().index[0]"
   ]
  },
  {
   "cell_type": "code",
   "execution_count": 41,
   "metadata": {},
   "outputs": [
    {
     "name": "stdout",
     "output_type": "stream",
     "text": [
      " The baseline accuracy will be 0.5\n"
     ]
    }
   ],
   "source": [
    "baseline_accuracy = (train_scaled.baseline == train_scaled.W).mean()\n",
    "print(f\" The baseline accuracy will be {baseline_accuracy}\")"
   ]
  },
  {
   "cell_type": "markdown",
   "metadata": {},
   "source": [
    "### Model 1"
   ]
  },
  {
   "cell_type": "code",
   "execution_count": 42,
   "metadata": {},
   "outputs": [],
   "source": [
    "coeff, cm, class_report = logistic_regression(X_train, y_train)"
   ]
  },
  {
   "cell_type": "code",
   "execution_count": 43,
   "metadata": {},
   "outputs": [
    {
     "data": {
      "text/html": [
       "<div>\n",
       "<style scoped>\n",
       "    .dataframe tbody tr th:only-of-type {\n",
       "        vertical-align: middle;\n",
       "    }\n",
       "\n",
       "    .dataframe tbody tr th {\n",
       "        vertical-align: top;\n",
       "    }\n",
       "\n",
       "    .dataframe thead th {\n",
       "        text-align: right;\n",
       "    }\n",
       "</style>\n",
       "<table border=\"1\" class=\"dataframe\">\n",
       "  <thead>\n",
       "    <tr style=\"text-align: right;\">\n",
       "      <th></th>\n",
       "      <th>0</th>\n",
       "    </tr>\n",
       "  </thead>\n",
       "  <tbody>\n",
       "    <tr>\n",
       "      <th>home_is_west</th>\n",
       "      <td>0.101605</td>\n",
       "    </tr>\n",
       "    <tr>\n",
       "      <th>away_is_west</th>\n",
       "      <td>-0.034740</td>\n",
       "    </tr>\n",
       "    <tr>\n",
       "      <th>Home</th>\n",
       "      <td>0.179915</td>\n",
       "    </tr>\n",
       "    <tr>\n",
       "      <th>FieldGoals._scaled</th>\n",
       "      <td>11.588874</td>\n",
       "    </tr>\n",
       "    <tr>\n",
       "      <th>X3PointShots._scaled</th>\n",
       "      <td>4.834567</td>\n",
       "    </tr>\n",
       "    <tr>\n",
       "      <th>FreeThrows._scaled</th>\n",
       "      <td>3.101893</td>\n",
       "    </tr>\n",
       "    <tr>\n",
       "      <th>OffRebounds_scaled</th>\n",
       "      <td>1.774434</td>\n",
       "    </tr>\n",
       "    <tr>\n",
       "      <th>TotalRebounds_scaled</th>\n",
       "      <td>6.729991</td>\n",
       "    </tr>\n",
       "    <tr>\n",
       "      <th>Assists_scaled</th>\n",
       "      <td>2.718055</td>\n",
       "    </tr>\n",
       "    <tr>\n",
       "      <th>Steals_scaled</th>\n",
       "      <td>1.682658</td>\n",
       "    </tr>\n",
       "    <tr>\n",
       "      <th>Blocks_scaled</th>\n",
       "      <td>0.819941</td>\n",
       "    </tr>\n",
       "    <tr>\n",
       "      <th>Turnovers_scaled</th>\n",
       "      <td>-5.522198</td>\n",
       "    </tr>\n",
       "    <tr>\n",
       "      <th>TotalFouls_scaled</th>\n",
       "      <td>-5.362411</td>\n",
       "    </tr>\n",
       "    <tr>\n",
       "      <th>Opp.FieldGoals._scaled</th>\n",
       "      <td>-11.265373</td>\n",
       "    </tr>\n",
       "    <tr>\n",
       "      <th>Opp.3PointShots._scaled</th>\n",
       "      <td>-5.208968</td>\n",
       "    </tr>\n",
       "    <tr>\n",
       "      <th>Opp.FreeThrows._scaled</th>\n",
       "      <td>-3.428604</td>\n",
       "    </tr>\n",
       "    <tr>\n",
       "      <th>Opp.OffRebounds_scaled</th>\n",
       "      <td>-1.755180</td>\n",
       "    </tr>\n",
       "    <tr>\n",
       "      <th>Opp.TotalRebounds_scaled</th>\n",
       "      <td>-6.346322</td>\n",
       "    </tr>\n",
       "    <tr>\n",
       "      <th>Opp.Assists_scaled</th>\n",
       "      <td>-2.370295</td>\n",
       "    </tr>\n",
       "    <tr>\n",
       "      <th>Opp.Steals_scaled</th>\n",
       "      <td>-1.973340</td>\n",
       "    </tr>\n",
       "    <tr>\n",
       "      <th>Opp.Blocks_scaled</th>\n",
       "      <td>-0.953404</td>\n",
       "    </tr>\n",
       "    <tr>\n",
       "      <th>Opp.Turnovers_scaled</th>\n",
       "      <td>5.461819</td>\n",
       "    </tr>\n",
       "    <tr>\n",
       "      <th>Opp.TotalFouls_scaled</th>\n",
       "      <td>5.239824</td>\n",
       "    </tr>\n",
       "    <tr>\n",
       "      <th>intercept</th>\n",
       "      <td>-0.170495</td>\n",
       "    </tr>\n",
       "  </tbody>\n",
       "</table>\n",
       "</div>"
      ],
      "text/plain": [
       "                                  0\n",
       "home_is_west               0.101605\n",
       "away_is_west              -0.034740\n",
       "Home                       0.179915\n",
       "FieldGoals._scaled        11.588874\n",
       "X3PointShots._scaled       4.834567\n",
       "FreeThrows._scaled         3.101893\n",
       "OffRebounds_scaled         1.774434\n",
       "TotalRebounds_scaled       6.729991\n",
       "Assists_scaled             2.718055\n",
       "Steals_scaled              1.682658\n",
       "Blocks_scaled              0.819941\n",
       "Turnovers_scaled          -5.522198\n",
       "TotalFouls_scaled         -5.362411\n",
       "Opp.FieldGoals._scaled   -11.265373\n",
       "Opp.3PointShots._scaled   -5.208968\n",
       "Opp.FreeThrows._scaled    -3.428604\n",
       "Opp.OffRebounds_scaled    -1.755180\n",
       "Opp.TotalRebounds_scaled  -6.346322\n",
       "Opp.Assists_scaled        -2.370295\n",
       "Opp.Steals_scaled         -1.973340\n",
       "Opp.Blocks_scaled         -0.953404\n",
       "Opp.Turnovers_scaled       5.461819\n",
       "Opp.TotalFouls_scaled      5.239824\n",
       "intercept                 -0.170495"
      ]
     },
     "execution_count": 43,
     "metadata": {},
     "output_type": "execute_result"
    }
   ],
   "source": [
    "coeff.T"
   ]
  },
  {
   "cell_type": "code",
   "execution_count": 44,
   "metadata": {},
   "outputs": [
    {
     "data": {
      "text/html": [
       "<div>\n",
       "<style scoped>\n",
       "    .dataframe tbody tr th:only-of-type {\n",
       "        vertical-align: middle;\n",
       "    }\n",
       "\n",
       "    .dataframe tbody tr th {\n",
       "        vertical-align: top;\n",
       "    }\n",
       "\n",
       "    .dataframe thead th {\n",
       "        text-align: right;\n",
       "    }\n",
       "</style>\n",
       "<table border=\"1\" class=\"dataframe\">\n",
       "  <thead>\n",
       "    <tr style=\"text-align: right;\">\n",
       "      <th></th>\n",
       "      <th>0</th>\n",
       "      <th>1</th>\n",
       "    </tr>\n",
       "  </thead>\n",
       "  <tbody>\n",
       "    <tr>\n",
       "      <th>0</th>\n",
       "      <td>2577</td>\n",
       "      <td>178</td>\n",
       "    </tr>\n",
       "    <tr>\n",
       "      <th>1</th>\n",
       "      <td>172</td>\n",
       "      <td>2583</td>\n",
       "    </tr>\n",
       "  </tbody>\n",
       "</table>\n",
       "</div>"
      ],
      "text/plain": [
       "      0     1\n",
       "0  2577   178\n",
       "1   172  2583"
      ]
     },
     "execution_count": 44,
     "metadata": {},
     "output_type": "execute_result"
    }
   ],
   "source": [
    "cm"
   ]
  },
  {
   "cell_type": "code",
   "execution_count": 45,
   "metadata": {},
   "outputs": [
    {
     "data": {
      "text/html": [
       "<div>\n",
       "<style scoped>\n",
       "    .dataframe tbody tr th:only-of-type {\n",
       "        vertical-align: middle;\n",
       "    }\n",
       "\n",
       "    .dataframe tbody tr th {\n",
       "        vertical-align: top;\n",
       "    }\n",
       "\n",
       "    .dataframe thead th {\n",
       "        text-align: right;\n",
       "    }\n",
       "</style>\n",
       "<table border=\"1\" class=\"dataframe\">\n",
       "  <thead>\n",
       "    <tr style=\"text-align: right;\">\n",
       "      <th></th>\n",
       "      <th>0</th>\n",
       "      <th>1</th>\n",
       "      <th>accuracy</th>\n",
       "      <th>macro avg</th>\n",
       "      <th>weighted avg</th>\n",
       "    </tr>\n",
       "  </thead>\n",
       "  <tbody>\n",
       "    <tr>\n",
       "      <th>precision</th>\n",
       "      <td>0.937432</td>\n",
       "      <td>0.935531</td>\n",
       "      <td>0.936479</td>\n",
       "      <td>0.936481</td>\n",
       "      <td>0.936481</td>\n",
       "    </tr>\n",
       "    <tr>\n",
       "      <th>recall</th>\n",
       "      <td>0.935390</td>\n",
       "      <td>0.937568</td>\n",
       "      <td>0.936479</td>\n",
       "      <td>0.936479</td>\n",
       "      <td>0.936479</td>\n",
       "    </tr>\n",
       "    <tr>\n",
       "      <th>f1-score</th>\n",
       "      <td>0.936410</td>\n",
       "      <td>0.936548</td>\n",
       "      <td>0.936479</td>\n",
       "      <td>0.936479</td>\n",
       "      <td>0.936479</td>\n",
       "    </tr>\n",
       "    <tr>\n",
       "      <th>support</th>\n",
       "      <td>2755.000000</td>\n",
       "      <td>2755.000000</td>\n",
       "      <td>0.936479</td>\n",
       "      <td>5510.000000</td>\n",
       "      <td>5510.000000</td>\n",
       "    </tr>\n",
       "  </tbody>\n",
       "</table>\n",
       "</div>"
      ],
      "text/plain": [
       "                     0            1  accuracy    macro avg  weighted avg\n",
       "precision     0.937432     0.935531  0.936479     0.936481      0.936481\n",
       "recall        0.935390     0.937568  0.936479     0.936479      0.936479\n",
       "f1-score      0.936410     0.936548  0.936479     0.936479      0.936479\n",
       "support    2755.000000  2755.000000  0.936479  5510.000000   5510.000000"
      ]
     },
     "execution_count": 45,
     "metadata": {},
     "output_type": "execute_result"
    }
   ],
   "source": [
    "class_report"
   ]
  },
  {
   "cell_type": "markdown",
   "metadata": {},
   "source": [
    "<div class=\"alert alert-block alert-info\">\n",
    "    \n",
    "- Model 1 performed way above the baseline average but it was with all the features\n",
    "    \n",
    "- Let's pull out the features with the most influence i.e. abs(coeff) > 5\n",
    "    - `FieldGoals.` & `Opp.FieldGoals.`\n",
    "    - `TotalRebounds` & `Opp.TotalRebounds.`\n",
    "    - `Turnovers` & `Opp.Turnovers`\n",
    "    - `TotalFouls` & `Opp.TotalFouls`\n",
    "</div>"
   ]
  },
  {
   "cell_type": "markdown",
   "metadata": {},
   "source": [
    "### Model 2 - Logistic Regression"
   ]
  },
  {
   "cell_type": "code",
   "execution_count": 46,
   "metadata": {},
   "outputs": [],
   "source": [
    "X_train2 = train_scaled[['FieldGoals._scaled', 'Opp.FieldGoals._scaled', 'TotalRebounds_scaled', 'Opp.TotalRebounds_scaled', 'Turnovers_scaled', 'Opp.Turnovers_scaled', 'TotalFouls_scaled', 'Opp.TotalFouls_scaled']]\n",
    "y_train2 = train_scaled.W"
   ]
  },
  {
   "cell_type": "code",
   "execution_count": 47,
   "metadata": {},
   "outputs": [],
   "source": [
    "coeff2, cm2, class_report2 = logistic_regression(X_train2, y_train2)"
   ]
  },
  {
   "cell_type": "code",
   "execution_count": 48,
   "metadata": {},
   "outputs": [
    {
     "data": {
      "text/html": [
       "<div>\n",
       "<style scoped>\n",
       "    .dataframe tbody tr th:only-of-type {\n",
       "        vertical-align: middle;\n",
       "    }\n",
       "\n",
       "    .dataframe tbody tr th {\n",
       "        vertical-align: top;\n",
       "    }\n",
       "\n",
       "    .dataframe thead th {\n",
       "        text-align: right;\n",
       "    }\n",
       "</style>\n",
       "<table border=\"1\" class=\"dataframe\">\n",
       "  <thead>\n",
       "    <tr style=\"text-align: right;\">\n",
       "      <th></th>\n",
       "      <th>0</th>\n",
       "    </tr>\n",
       "  </thead>\n",
       "  <tbody>\n",
       "    <tr>\n",
       "      <th>FieldGoals._scaled</th>\n",
       "      <td>12.757818</td>\n",
       "    </tr>\n",
       "    <tr>\n",
       "      <th>Opp.FieldGoals._scaled</th>\n",
       "      <td>-12.429221</td>\n",
       "    </tr>\n",
       "    <tr>\n",
       "      <th>TotalRebounds_scaled</th>\n",
       "      <td>7.399879</td>\n",
       "    </tr>\n",
       "    <tr>\n",
       "      <th>Opp.TotalRebounds_scaled</th>\n",
       "      <td>-6.998543</td>\n",
       "    </tr>\n",
       "    <tr>\n",
       "      <th>Turnovers_scaled</th>\n",
       "      <td>-6.408212</td>\n",
       "    </tr>\n",
       "    <tr>\n",
       "      <th>Opp.Turnovers_scaled</th>\n",
       "      <td>6.231019</td>\n",
       "    </tr>\n",
       "    <tr>\n",
       "      <th>TotalFouls_scaled</th>\n",
       "      <td>-3.952367</td>\n",
       "    </tr>\n",
       "    <tr>\n",
       "      <th>Opp.TotalFouls_scaled</th>\n",
       "      <td>4.038418</td>\n",
       "    </tr>\n",
       "    <tr>\n",
       "      <th>intercept</th>\n",
       "      <td>-0.464362</td>\n",
       "    </tr>\n",
       "  </tbody>\n",
       "</table>\n",
       "</div>"
      ],
      "text/plain": [
       "                                  0\n",
       "FieldGoals._scaled        12.757818\n",
       "Opp.FieldGoals._scaled   -12.429221\n",
       "TotalRebounds_scaled       7.399879\n",
       "Opp.TotalRebounds_scaled  -6.998543\n",
       "Turnovers_scaled          -6.408212\n",
       "Opp.Turnovers_scaled       6.231019\n",
       "TotalFouls_scaled         -3.952367\n",
       "Opp.TotalFouls_scaled      4.038418\n",
       "intercept                 -0.464362"
      ]
     },
     "execution_count": 48,
     "metadata": {},
     "output_type": "execute_result"
    }
   ],
   "source": [
    "coeff2.T"
   ]
  },
  {
   "cell_type": "code",
   "execution_count": 49,
   "metadata": {},
   "outputs": [
    {
     "data": {
      "text/html": [
       "<div>\n",
       "<style scoped>\n",
       "    .dataframe tbody tr th:only-of-type {\n",
       "        vertical-align: middle;\n",
       "    }\n",
       "\n",
       "    .dataframe tbody tr th {\n",
       "        vertical-align: top;\n",
       "    }\n",
       "\n",
       "    .dataframe thead th {\n",
       "        text-align: right;\n",
       "    }\n",
       "</style>\n",
       "<table border=\"1\" class=\"dataframe\">\n",
       "  <thead>\n",
       "    <tr style=\"text-align: right;\">\n",
       "      <th></th>\n",
       "      <th>0</th>\n",
       "      <th>1</th>\n",
       "    </tr>\n",
       "  </thead>\n",
       "  <tbody>\n",
       "    <tr>\n",
       "      <th>0</th>\n",
       "      <td>2464</td>\n",
       "      <td>291</td>\n",
       "    </tr>\n",
       "    <tr>\n",
       "      <th>1</th>\n",
       "      <td>279</td>\n",
       "      <td>2476</td>\n",
       "    </tr>\n",
       "  </tbody>\n",
       "</table>\n",
       "</div>"
      ],
      "text/plain": [
       "      0     1\n",
       "0  2464   291\n",
       "1   279  2476"
      ]
     },
     "execution_count": 49,
     "metadata": {},
     "output_type": "execute_result"
    }
   ],
   "source": [
    "cm2"
   ]
  },
  {
   "cell_type": "code",
   "execution_count": 50,
   "metadata": {},
   "outputs": [
    {
     "data": {
      "text/html": [
       "<div>\n",
       "<style scoped>\n",
       "    .dataframe tbody tr th:only-of-type {\n",
       "        vertical-align: middle;\n",
       "    }\n",
       "\n",
       "    .dataframe tbody tr th {\n",
       "        vertical-align: top;\n",
       "    }\n",
       "\n",
       "    .dataframe thead th {\n",
       "        text-align: right;\n",
       "    }\n",
       "</style>\n",
       "<table border=\"1\" class=\"dataframe\">\n",
       "  <thead>\n",
       "    <tr style=\"text-align: right;\">\n",
       "      <th></th>\n",
       "      <th>0</th>\n",
       "      <th>1</th>\n",
       "      <th>accuracy</th>\n",
       "      <th>macro avg</th>\n",
       "      <th>weighted avg</th>\n",
       "    </tr>\n",
       "  </thead>\n",
       "  <tbody>\n",
       "    <tr>\n",
       "      <th>precision</th>\n",
       "      <td>0.898287</td>\n",
       "      <td>0.894832</td>\n",
       "      <td>0.896552</td>\n",
       "      <td>0.896559</td>\n",
       "      <td>0.896559</td>\n",
       "    </tr>\n",
       "    <tr>\n",
       "      <th>recall</th>\n",
       "      <td>0.894374</td>\n",
       "      <td>0.898730</td>\n",
       "      <td>0.896552</td>\n",
       "      <td>0.896552</td>\n",
       "      <td>0.896552</td>\n",
       "    </tr>\n",
       "    <tr>\n",
       "      <th>f1-score</th>\n",
       "      <td>0.896326</td>\n",
       "      <td>0.896777</td>\n",
       "      <td>0.896552</td>\n",
       "      <td>0.896551</td>\n",
       "      <td>0.896551</td>\n",
       "    </tr>\n",
       "    <tr>\n",
       "      <th>support</th>\n",
       "      <td>2755.000000</td>\n",
       "      <td>2755.000000</td>\n",
       "      <td>0.896552</td>\n",
       "      <td>5510.000000</td>\n",
       "      <td>5510.000000</td>\n",
       "    </tr>\n",
       "  </tbody>\n",
       "</table>\n",
       "</div>"
      ],
      "text/plain": [
       "                     0            1  accuracy    macro avg  weighted avg\n",
       "precision     0.898287     0.894832  0.896552     0.896559      0.896559\n",
       "recall        0.894374     0.898730  0.896552     0.896552      0.896552\n",
       "f1-score      0.896326     0.896777  0.896552     0.896551      0.896551\n",
       "support    2755.000000  2755.000000  0.896552  5510.000000   5510.000000"
      ]
     },
     "execution_count": 50,
     "metadata": {},
     "output_type": "execute_result"
    }
   ],
   "source": [
    "class_report2"
   ]
  },
  {
   "cell_type": "markdown",
   "metadata": {},
   "source": [
    "### Model 3 - Decision Tree"
   ]
  },
  {
   "cell_type": "code",
   "execution_count": 51,
   "metadata": {},
   "outputs": [],
   "source": [
    "cm3, class_report3 = decision_tree(X_train2, y_train2, 3)"
   ]
  },
  {
   "cell_type": "code",
   "execution_count": 52,
   "metadata": {},
   "outputs": [
    {
     "data": {
      "text/html": [
       "<div>\n",
       "<style scoped>\n",
       "    .dataframe tbody tr th:only-of-type {\n",
       "        vertical-align: middle;\n",
       "    }\n",
       "\n",
       "    .dataframe tbody tr th {\n",
       "        vertical-align: top;\n",
       "    }\n",
       "\n",
       "    .dataframe thead th {\n",
       "        text-align: right;\n",
       "    }\n",
       "</style>\n",
       "<table border=\"1\" class=\"dataframe\">\n",
       "  <thead>\n",
       "    <tr style=\"text-align: right;\">\n",
       "      <th></th>\n",
       "      <th>0</th>\n",
       "      <th>1</th>\n",
       "    </tr>\n",
       "  </thead>\n",
       "  <tbody>\n",
       "    <tr>\n",
       "      <th>0</th>\n",
       "      <td>2094</td>\n",
       "      <td>661</td>\n",
       "    </tr>\n",
       "    <tr>\n",
       "      <th>1</th>\n",
       "      <td>495</td>\n",
       "      <td>2260</td>\n",
       "    </tr>\n",
       "  </tbody>\n",
       "</table>\n",
       "</div>"
      ],
      "text/plain": [
       "      0     1\n",
       "0  2094   661\n",
       "1   495  2260"
      ]
     },
     "execution_count": 52,
     "metadata": {},
     "output_type": "execute_result"
    }
   ],
   "source": [
    "cm3"
   ]
  },
  {
   "cell_type": "code",
   "execution_count": 53,
   "metadata": {},
   "outputs": [
    {
     "data": {
      "text/html": [
       "<div>\n",
       "<style scoped>\n",
       "    .dataframe tbody tr th:only-of-type {\n",
       "        vertical-align: middle;\n",
       "    }\n",
       "\n",
       "    .dataframe tbody tr th {\n",
       "        vertical-align: top;\n",
       "    }\n",
       "\n",
       "    .dataframe thead th {\n",
       "        text-align: right;\n",
       "    }\n",
       "</style>\n",
       "<table border=\"1\" class=\"dataframe\">\n",
       "  <thead>\n",
       "    <tr style=\"text-align: right;\">\n",
       "      <th></th>\n",
       "      <th>0</th>\n",
       "      <th>1</th>\n",
       "      <th>accuracy</th>\n",
       "      <th>macro avg</th>\n",
       "      <th>weighted avg</th>\n",
       "    </tr>\n",
       "  </thead>\n",
       "  <tbody>\n",
       "    <tr>\n",
       "      <th>precision</th>\n",
       "      <td>0.808806</td>\n",
       "      <td>0.773708</td>\n",
       "      <td>0.7902</td>\n",
       "      <td>0.791257</td>\n",
       "      <td>0.791257</td>\n",
       "    </tr>\n",
       "    <tr>\n",
       "      <th>recall</th>\n",
       "      <td>0.760073</td>\n",
       "      <td>0.820327</td>\n",
       "      <td>0.7902</td>\n",
       "      <td>0.790200</td>\n",
       "      <td>0.790200</td>\n",
       "    </tr>\n",
       "    <tr>\n",
       "      <th>f1-score</th>\n",
       "      <td>0.783683</td>\n",
       "      <td>0.796335</td>\n",
       "      <td>0.7902</td>\n",
       "      <td>0.790009</td>\n",
       "      <td>0.790009</td>\n",
       "    </tr>\n",
       "    <tr>\n",
       "      <th>support</th>\n",
       "      <td>2755.000000</td>\n",
       "      <td>2755.000000</td>\n",
       "      <td>0.7902</td>\n",
       "      <td>5510.000000</td>\n",
       "      <td>5510.000000</td>\n",
       "    </tr>\n",
       "  </tbody>\n",
       "</table>\n",
       "</div>"
      ],
      "text/plain": [
       "                     0            1  accuracy    macro avg  weighted avg\n",
       "precision     0.808806     0.773708    0.7902     0.791257      0.791257\n",
       "recall        0.760073     0.820327    0.7902     0.790200      0.790200\n",
       "f1-score      0.783683     0.796335    0.7902     0.790009      0.790009\n",
       "support    2755.000000  2755.000000    0.7902  5510.000000   5510.000000"
      ]
     },
     "execution_count": 53,
     "metadata": {},
     "output_type": "execute_result"
    }
   ],
   "source": [
    "class_report3"
   ]
  },
  {
   "cell_type": "markdown",
   "metadata": {},
   "source": [
    "### Model 4 - Decision Tree"
   ]
  },
  {
   "cell_type": "code",
   "execution_count": 54,
   "metadata": {},
   "outputs": [],
   "source": [
    "cm4, class_report4 = decision_tree(X_train2, y_train2, 5)"
   ]
  },
  {
   "cell_type": "code",
   "execution_count": 55,
   "metadata": {},
   "outputs": [
    {
     "data": {
      "text/html": [
       "<div>\n",
       "<style scoped>\n",
       "    .dataframe tbody tr th:only-of-type {\n",
       "        vertical-align: middle;\n",
       "    }\n",
       "\n",
       "    .dataframe tbody tr th {\n",
       "        vertical-align: top;\n",
       "    }\n",
       "\n",
       "    .dataframe thead th {\n",
       "        text-align: right;\n",
       "    }\n",
       "</style>\n",
       "<table border=\"1\" class=\"dataframe\">\n",
       "  <thead>\n",
       "    <tr style=\"text-align: right;\">\n",
       "      <th></th>\n",
       "      <th>0</th>\n",
       "      <th>1</th>\n",
       "    </tr>\n",
       "  </thead>\n",
       "  <tbody>\n",
       "    <tr>\n",
       "      <th>0</th>\n",
       "      <td>2145</td>\n",
       "      <td>610</td>\n",
       "    </tr>\n",
       "    <tr>\n",
       "      <th>1</th>\n",
       "      <td>360</td>\n",
       "      <td>2395</td>\n",
       "    </tr>\n",
       "  </tbody>\n",
       "</table>\n",
       "</div>"
      ],
      "text/plain": [
       "      0     1\n",
       "0  2145   610\n",
       "1   360  2395"
      ]
     },
     "execution_count": 55,
     "metadata": {},
     "output_type": "execute_result"
    }
   ],
   "source": [
    "cm4"
   ]
  },
  {
   "cell_type": "code",
   "execution_count": 56,
   "metadata": {},
   "outputs": [
    {
     "data": {
      "text/html": [
       "<div>\n",
       "<style scoped>\n",
       "    .dataframe tbody tr th:only-of-type {\n",
       "        vertical-align: middle;\n",
       "    }\n",
       "\n",
       "    .dataframe tbody tr th {\n",
       "        vertical-align: top;\n",
       "    }\n",
       "\n",
       "    .dataframe thead th {\n",
       "        text-align: right;\n",
       "    }\n",
       "</style>\n",
       "<table border=\"1\" class=\"dataframe\">\n",
       "  <thead>\n",
       "    <tr style=\"text-align: right;\">\n",
       "      <th></th>\n",
       "      <th>0</th>\n",
       "      <th>1</th>\n",
       "      <th>accuracy</th>\n",
       "      <th>macro avg</th>\n",
       "      <th>weighted avg</th>\n",
       "    </tr>\n",
       "  </thead>\n",
       "  <tbody>\n",
       "    <tr>\n",
       "      <th>precision</th>\n",
       "      <td>0.856287</td>\n",
       "      <td>0.797005</td>\n",
       "      <td>0.823956</td>\n",
       "      <td>0.826646</td>\n",
       "      <td>0.826646</td>\n",
       "    </tr>\n",
       "    <tr>\n",
       "      <th>recall</th>\n",
       "      <td>0.778584</td>\n",
       "      <td>0.869328</td>\n",
       "      <td>0.823956</td>\n",
       "      <td>0.823956</td>\n",
       "      <td>0.823956</td>\n",
       "    </tr>\n",
       "    <tr>\n",
       "      <th>f1-score</th>\n",
       "      <td>0.815589</td>\n",
       "      <td>0.831597</td>\n",
       "      <td>0.823956</td>\n",
       "      <td>0.823593</td>\n",
       "      <td>0.823593</td>\n",
       "    </tr>\n",
       "    <tr>\n",
       "      <th>support</th>\n",
       "      <td>2755.000000</td>\n",
       "      <td>2755.000000</td>\n",
       "      <td>0.823956</td>\n",
       "      <td>5510.000000</td>\n",
       "      <td>5510.000000</td>\n",
       "    </tr>\n",
       "  </tbody>\n",
       "</table>\n",
       "</div>"
      ],
      "text/plain": [
       "                     0            1  accuracy    macro avg  weighted avg\n",
       "precision     0.856287     0.797005  0.823956     0.826646      0.826646\n",
       "recall        0.778584     0.869328  0.823956     0.823956      0.823956\n",
       "f1-score      0.815589     0.831597  0.823956     0.823593      0.823593\n",
       "support    2755.000000  2755.000000  0.823956  5510.000000   5510.000000"
      ]
     },
     "execution_count": 56,
     "metadata": {},
     "output_type": "execute_result"
    }
   ],
   "source": [
    "class_report4"
   ]
  },
  {
   "cell_type": "markdown",
   "metadata": {},
   "source": [
    "### Model 5 - Random Forest"
   ]
  },
  {
   "cell_type": "code",
   "execution_count": 57,
   "metadata": {},
   "outputs": [],
   "source": [
    "cm5, class_report5 = random_forest(X_train2, y_train2, 500, 3)"
   ]
  },
  {
   "cell_type": "code",
   "execution_count": 58,
   "metadata": {},
   "outputs": [
    {
     "data": {
      "text/html": [
       "<div>\n",
       "<style scoped>\n",
       "    .dataframe tbody tr th:only-of-type {\n",
       "        vertical-align: middle;\n",
       "    }\n",
       "\n",
       "    .dataframe tbody tr th {\n",
       "        vertical-align: top;\n",
       "    }\n",
       "\n",
       "    .dataframe thead th {\n",
       "        text-align: right;\n",
       "    }\n",
       "</style>\n",
       "<table border=\"1\" class=\"dataframe\">\n",
       "  <thead>\n",
       "    <tr style=\"text-align: right;\">\n",
       "      <th></th>\n",
       "      <th>0</th>\n",
       "      <th>1</th>\n",
       "    </tr>\n",
       "  </thead>\n",
       "  <tbody>\n",
       "    <tr>\n",
       "      <th>0</th>\n",
       "      <td>2323</td>\n",
       "      <td>432</td>\n",
       "    </tr>\n",
       "    <tr>\n",
       "      <th>1</th>\n",
       "      <td>564</td>\n",
       "      <td>2191</td>\n",
       "    </tr>\n",
       "  </tbody>\n",
       "</table>\n",
       "</div>"
      ],
      "text/plain": [
       "      0     1\n",
       "0  2323   432\n",
       "1   564  2191"
      ]
     },
     "execution_count": 58,
     "metadata": {},
     "output_type": "execute_result"
    }
   ],
   "source": [
    "cm5"
   ]
  },
  {
   "cell_type": "code",
   "execution_count": 59,
   "metadata": {},
   "outputs": [
    {
     "data": {
      "text/html": [
       "<div>\n",
       "<style scoped>\n",
       "    .dataframe tbody tr th:only-of-type {\n",
       "        vertical-align: middle;\n",
       "    }\n",
       "\n",
       "    .dataframe tbody tr th {\n",
       "        vertical-align: top;\n",
       "    }\n",
       "\n",
       "    .dataframe thead th {\n",
       "        text-align: right;\n",
       "    }\n",
       "</style>\n",
       "<table border=\"1\" class=\"dataframe\">\n",
       "  <thead>\n",
       "    <tr style=\"text-align: right;\">\n",
       "      <th></th>\n",
       "      <th>0</th>\n",
       "      <th>1</th>\n",
       "      <th>accuracy</th>\n",
       "      <th>macro avg</th>\n",
       "      <th>weighted avg</th>\n",
       "    </tr>\n",
       "  </thead>\n",
       "  <tbody>\n",
       "    <tr>\n",
       "      <th>precision</th>\n",
       "      <td>0.804641</td>\n",
       "      <td>0.835303</td>\n",
       "      <td>0.819238</td>\n",
       "      <td>0.819972</td>\n",
       "      <td>0.819972</td>\n",
       "    </tr>\n",
       "    <tr>\n",
       "      <th>recall</th>\n",
       "      <td>0.843194</td>\n",
       "      <td>0.795281</td>\n",
       "      <td>0.819238</td>\n",
       "      <td>0.819238</td>\n",
       "      <td>0.819238</td>\n",
       "    </tr>\n",
       "    <tr>\n",
       "      <th>f1-score</th>\n",
       "      <td>0.823467</td>\n",
       "      <td>0.814801</td>\n",
       "      <td>0.819238</td>\n",
       "      <td>0.819134</td>\n",
       "      <td>0.819134</td>\n",
       "    </tr>\n",
       "    <tr>\n",
       "      <th>support</th>\n",
       "      <td>2755.000000</td>\n",
       "      <td>2755.000000</td>\n",
       "      <td>0.819238</td>\n",
       "      <td>5510.000000</td>\n",
       "      <td>5510.000000</td>\n",
       "    </tr>\n",
       "  </tbody>\n",
       "</table>\n",
       "</div>"
      ],
      "text/plain": [
       "                     0            1  accuracy    macro avg  weighted avg\n",
       "precision     0.804641     0.835303  0.819238     0.819972      0.819972\n",
       "recall        0.843194     0.795281  0.819238     0.819238      0.819238\n",
       "f1-score      0.823467     0.814801  0.819238     0.819134      0.819134\n",
       "support    2755.000000  2755.000000  0.819238  5510.000000   5510.000000"
      ]
     },
     "execution_count": 59,
     "metadata": {},
     "output_type": "execute_result"
    }
   ],
   "source": [
    "class_report5"
   ]
  },
  {
   "cell_type": "markdown",
   "metadata": {},
   "source": [
    "### Model 6 - Random Forest"
   ]
  },
  {
   "cell_type": "code",
   "execution_count": 60,
   "metadata": {},
   "outputs": [],
   "source": [
    "cm6, class_report6 = random_forest(X_train2, y_train2, 100, 6)"
   ]
  },
  {
   "cell_type": "code",
   "execution_count": 61,
   "metadata": {},
   "outputs": [
    {
     "data": {
      "text/html": [
       "<div>\n",
       "<style scoped>\n",
       "    .dataframe tbody tr th:only-of-type {\n",
       "        vertical-align: middle;\n",
       "    }\n",
       "\n",
       "    .dataframe tbody tr th {\n",
       "        vertical-align: top;\n",
       "    }\n",
       "\n",
       "    .dataframe thead th {\n",
       "        text-align: right;\n",
       "    }\n",
       "</style>\n",
       "<table border=\"1\" class=\"dataframe\">\n",
       "  <thead>\n",
       "    <tr style=\"text-align: right;\">\n",
       "      <th></th>\n",
       "      <th>0</th>\n",
       "      <th>1</th>\n",
       "    </tr>\n",
       "  </thead>\n",
       "  <tbody>\n",
       "    <tr>\n",
       "      <th>0</th>\n",
       "      <td>2364</td>\n",
       "      <td>391</td>\n",
       "    </tr>\n",
       "    <tr>\n",
       "      <th>1</th>\n",
       "      <td>375</td>\n",
       "      <td>2380</td>\n",
       "    </tr>\n",
       "  </tbody>\n",
       "</table>\n",
       "</div>"
      ],
      "text/plain": [
       "      0     1\n",
       "0  2364   391\n",
       "1   375  2380"
      ]
     },
     "execution_count": 61,
     "metadata": {},
     "output_type": "execute_result"
    }
   ],
   "source": [
    "cm6"
   ]
  },
  {
   "cell_type": "code",
   "execution_count": 62,
   "metadata": {},
   "outputs": [
    {
     "data": {
      "text/html": [
       "<div>\n",
       "<style scoped>\n",
       "    .dataframe tbody tr th:only-of-type {\n",
       "        vertical-align: middle;\n",
       "    }\n",
       "\n",
       "    .dataframe tbody tr th {\n",
       "        vertical-align: top;\n",
       "    }\n",
       "\n",
       "    .dataframe thead th {\n",
       "        text-align: right;\n",
       "    }\n",
       "</style>\n",
       "<table border=\"1\" class=\"dataframe\">\n",
       "  <thead>\n",
       "    <tr style=\"text-align: right;\">\n",
       "      <th></th>\n",
       "      <th>0</th>\n",
       "      <th>1</th>\n",
       "      <th>accuracy</th>\n",
       "      <th>macro avg</th>\n",
       "      <th>weighted avg</th>\n",
       "    </tr>\n",
       "  </thead>\n",
       "  <tbody>\n",
       "    <tr>\n",
       "      <th>precision</th>\n",
       "      <td>0.863089</td>\n",
       "      <td>0.858896</td>\n",
       "      <td>0.86098</td>\n",
       "      <td>0.860992</td>\n",
       "      <td>0.860992</td>\n",
       "    </tr>\n",
       "    <tr>\n",
       "      <th>recall</th>\n",
       "      <td>0.858076</td>\n",
       "      <td>0.863884</td>\n",
       "      <td>0.86098</td>\n",
       "      <td>0.860980</td>\n",
       "      <td>0.860980</td>\n",
       "    </tr>\n",
       "    <tr>\n",
       "      <th>f1-score</th>\n",
       "      <td>0.860575</td>\n",
       "      <td>0.861383</td>\n",
       "      <td>0.86098</td>\n",
       "      <td>0.860979</td>\n",
       "      <td>0.860979</td>\n",
       "    </tr>\n",
       "    <tr>\n",
       "      <th>support</th>\n",
       "      <td>2755.000000</td>\n",
       "      <td>2755.000000</td>\n",
       "      <td>0.86098</td>\n",
       "      <td>5510.000000</td>\n",
       "      <td>5510.000000</td>\n",
       "    </tr>\n",
       "  </tbody>\n",
       "</table>\n",
       "</div>"
      ],
      "text/plain": [
       "                     0            1  accuracy    macro avg  weighted avg\n",
       "precision     0.863089     0.858896   0.86098     0.860992      0.860992\n",
       "recall        0.858076     0.863884   0.86098     0.860980      0.860980\n",
       "f1-score      0.860575     0.861383   0.86098     0.860979      0.860979\n",
       "support    2755.000000  2755.000000   0.86098  5510.000000   5510.000000"
      ]
     },
     "execution_count": 62,
     "metadata": {},
     "output_type": "execute_result"
    }
   ],
   "source": [
    "class_report6"
   ]
  },
  {
   "cell_type": "markdown",
   "metadata": {},
   "source": [
    "### Model 7 - K-Nearest Neighbor"
   ]
  },
  {
   "cell_type": "code",
   "execution_count": 63,
   "metadata": {},
   "outputs": [],
   "source": [
    "cm7, class_report7 = kneighbors(X_train2, y_train2, 3)"
   ]
  },
  {
   "cell_type": "code",
   "execution_count": 64,
   "metadata": {},
   "outputs": [
    {
     "data": {
      "text/html": [
       "<div>\n",
       "<style scoped>\n",
       "    .dataframe tbody tr th:only-of-type {\n",
       "        vertical-align: middle;\n",
       "    }\n",
       "\n",
       "    .dataframe tbody tr th {\n",
       "        vertical-align: top;\n",
       "    }\n",
       "\n",
       "    .dataframe thead th {\n",
       "        text-align: right;\n",
       "    }\n",
       "</style>\n",
       "<table border=\"1\" class=\"dataframe\">\n",
       "  <thead>\n",
       "    <tr style=\"text-align: right;\">\n",
       "      <th></th>\n",
       "      <th>0</th>\n",
       "      <th>1</th>\n",
       "    </tr>\n",
       "  </thead>\n",
       "  <tbody>\n",
       "    <tr>\n",
       "      <th>0</th>\n",
       "      <td>2550</td>\n",
       "      <td>205</td>\n",
       "    </tr>\n",
       "    <tr>\n",
       "      <th>1</th>\n",
       "      <td>211</td>\n",
       "      <td>2544</td>\n",
       "    </tr>\n",
       "  </tbody>\n",
       "</table>\n",
       "</div>"
      ],
      "text/plain": [
       "      0     1\n",
       "0  2550   205\n",
       "1   211  2544"
      ]
     },
     "execution_count": 64,
     "metadata": {},
     "output_type": "execute_result"
    }
   ],
   "source": [
    "cm7"
   ]
  },
  {
   "cell_type": "code",
   "execution_count": 65,
   "metadata": {},
   "outputs": [
    {
     "data": {
      "text/html": [
       "<div>\n",
       "<style scoped>\n",
       "    .dataframe tbody tr th:only-of-type {\n",
       "        vertical-align: middle;\n",
       "    }\n",
       "\n",
       "    .dataframe tbody tr th {\n",
       "        vertical-align: top;\n",
       "    }\n",
       "\n",
       "    .dataframe thead th {\n",
       "        text-align: right;\n",
       "    }\n",
       "</style>\n",
       "<table border=\"1\" class=\"dataframe\">\n",
       "  <thead>\n",
       "    <tr style=\"text-align: right;\">\n",
       "      <th></th>\n",
       "      <th>0</th>\n",
       "      <th>1</th>\n",
       "      <th>accuracy</th>\n",
       "      <th>macro avg</th>\n",
       "      <th>weighted avg</th>\n",
       "    </tr>\n",
       "  </thead>\n",
       "  <tbody>\n",
       "    <tr>\n",
       "      <th>precision</th>\n",
       "      <td>0.923578</td>\n",
       "      <td>0.925427</td>\n",
       "      <td>0.924501</td>\n",
       "      <td>0.924503</td>\n",
       "      <td>0.924503</td>\n",
       "    </tr>\n",
       "    <tr>\n",
       "      <th>recall</th>\n",
       "      <td>0.925590</td>\n",
       "      <td>0.923412</td>\n",
       "      <td>0.924501</td>\n",
       "      <td>0.924501</td>\n",
       "      <td>0.924501</td>\n",
       "    </tr>\n",
       "    <tr>\n",
       "      <th>f1-score</th>\n",
       "      <td>0.924583</td>\n",
       "      <td>0.924419</td>\n",
       "      <td>0.924501</td>\n",
       "      <td>0.924501</td>\n",
       "      <td>0.924501</td>\n",
       "    </tr>\n",
       "    <tr>\n",
       "      <th>support</th>\n",
       "      <td>2755.000000</td>\n",
       "      <td>2755.000000</td>\n",
       "      <td>0.924501</td>\n",
       "      <td>5510.000000</td>\n",
       "      <td>5510.000000</td>\n",
       "    </tr>\n",
       "  </tbody>\n",
       "</table>\n",
       "</div>"
      ],
      "text/plain": [
       "                     0            1  accuracy    macro avg  weighted avg\n",
       "precision     0.923578     0.925427  0.924501     0.924503      0.924503\n",
       "recall        0.925590     0.923412  0.924501     0.924501      0.924501\n",
       "f1-score      0.924583     0.924419  0.924501     0.924501      0.924501\n",
       "support    2755.000000  2755.000000  0.924501  5510.000000   5510.000000"
      ]
     },
     "execution_count": 65,
     "metadata": {},
     "output_type": "execute_result"
    }
   ],
   "source": [
    "class_report7"
   ]
  },
  {
   "cell_type": "markdown",
   "metadata": {},
   "source": [
    "#### Results\n",
    "| | Accuracy-Train | \n",
    "| --- | --- |\n",
    "| Model 1: | .9365 |\n",
    "| Model 2: | .8966 |\n",
    "| Model 3: | .7902 |\n",
    "| Model 4: | .8240 |\n",
    "| Model 5: | .8192 |\n",
    "| Model 6: | .8610 |\n",
    "| Model 7: | .9245 |"
   ]
  },
  {
   "cell_type": "markdown",
   "metadata": {},
   "source": [
    "<div class=\"alert alert-block alert-info\">\n",
    "    \n",
    "- Model 1 included all the features so we won't move forward with it but it gives us a goal to shoot for in terms of accuracy\n",
    "- Model 2's accuracy dropped by 4 percentage points in comparison to Model 1. \n",
    "    - This is to be expected because we gave the model less data to work with\n",
    "- For Model 3 & 4 we used a decision tree with different max depths\n",
    "    - Neither has performed better than the linear regression\n",
    "    - Will check accuracy further with validate to make sure we did not overfit\n",
    "    - prone to happen when we give more depth to the decision tree\n",
    "- Model 5 & 6 use random forest with different max depths and minimum sampling\n",
    "    - Model 6 did not do much better and with fear of overfitting, we will only move forward with model 5\n",
    "    - both seem unlikely to move into test stage anyways\n",
    "- Model 7 has done the best so far with the chosen features\n",
    "    - definitely will keep a close eye on this one. Kneighbors is known to overfit\n",
    "- We will take one model from each algorithm and move forward to the validate stage\n",
    "    - model 2\n",
    "    - model 4\n",
    "    - model 5\n",
    "    - model 7\n",
    "</div>"
   ]
  },
  {
   "cell_type": "markdown",
   "metadata": {},
   "source": [
    "## Validate"
   ]
  },
  {
   "cell_type": "code",
   "execution_count": 66,
   "metadata": {},
   "outputs": [],
   "source": [
    "X_validate = validate_scaled[['FieldGoals._scaled', 'Opp.FieldGoals._scaled', 'TotalRebounds_scaled', 'Opp.TotalRebounds_scaled', 'Turnovers_scaled', 'Opp.Turnovers_scaled', 'TotalFouls_scaled', 'Opp.TotalFouls_scaled']]\n",
    "y_validate = validate_scaled.W"
   ]
  },
  {
   "cell_type": "markdown",
   "metadata": {},
   "source": [
    "### Model 2 - Logistic Regression"
   ]
  },
  {
   "cell_type": "code",
   "execution_count": 67,
   "metadata": {},
   "outputs": [],
   "source": [
    "coeff_val2, cm_val2, class_report_val2 = logistic_regression_validate(X_train2, y_train2, X_validate, y_validate)"
   ]
  },
  {
   "cell_type": "code",
   "execution_count": 68,
   "metadata": {},
   "outputs": [
    {
     "data": {
      "text/html": [
       "<div>\n",
       "<style scoped>\n",
       "    .dataframe tbody tr th:only-of-type {\n",
       "        vertical-align: middle;\n",
       "    }\n",
       "\n",
       "    .dataframe tbody tr th {\n",
       "        vertical-align: top;\n",
       "    }\n",
       "\n",
       "    .dataframe thead th {\n",
       "        text-align: right;\n",
       "    }\n",
       "</style>\n",
       "<table border=\"1\" class=\"dataframe\">\n",
       "  <thead>\n",
       "    <tr style=\"text-align: right;\">\n",
       "      <th></th>\n",
       "      <th>0</th>\n",
       "      <th>1</th>\n",
       "    </tr>\n",
       "  </thead>\n",
       "  <tbody>\n",
       "    <tr>\n",
       "      <th>0</th>\n",
       "      <td>1057</td>\n",
       "      <td>124</td>\n",
       "    </tr>\n",
       "    <tr>\n",
       "      <th>1</th>\n",
       "      <td>113</td>\n",
       "      <td>1068</td>\n",
       "    </tr>\n",
       "  </tbody>\n",
       "</table>\n",
       "</div>"
      ],
      "text/plain": [
       "      0     1\n",
       "0  1057   124\n",
       "1   113  1068"
      ]
     },
     "execution_count": 68,
     "metadata": {},
     "output_type": "execute_result"
    }
   ],
   "source": [
    "cm_val2"
   ]
  },
  {
   "cell_type": "code",
   "execution_count": 69,
   "metadata": {},
   "outputs": [
    {
     "data": {
      "text/html": [
       "<div>\n",
       "<style scoped>\n",
       "    .dataframe tbody tr th:only-of-type {\n",
       "        vertical-align: middle;\n",
       "    }\n",
       "\n",
       "    .dataframe tbody tr th {\n",
       "        vertical-align: top;\n",
       "    }\n",
       "\n",
       "    .dataframe thead th {\n",
       "        text-align: right;\n",
       "    }\n",
       "</style>\n",
       "<table border=\"1\" class=\"dataframe\">\n",
       "  <thead>\n",
       "    <tr style=\"text-align: right;\">\n",
       "      <th></th>\n",
       "      <th>0</th>\n",
       "      <th>1</th>\n",
       "      <th>accuracy</th>\n",
       "      <th>macro avg</th>\n",
       "      <th>weighted avg</th>\n",
       "    </tr>\n",
       "  </thead>\n",
       "  <tbody>\n",
       "    <tr>\n",
       "      <th>precision</th>\n",
       "      <td>0.903419</td>\n",
       "      <td>0.895973</td>\n",
       "      <td>0.899661</td>\n",
       "      <td>0.899696</td>\n",
       "      <td>0.899696</td>\n",
       "    </tr>\n",
       "    <tr>\n",
       "      <th>recall</th>\n",
       "      <td>0.895004</td>\n",
       "      <td>0.904318</td>\n",
       "      <td>0.899661</td>\n",
       "      <td>0.899661</td>\n",
       "      <td>0.899661</td>\n",
       "    </tr>\n",
       "    <tr>\n",
       "      <th>f1-score</th>\n",
       "      <td>0.899192</td>\n",
       "      <td>0.900126</td>\n",
       "      <td>0.899661</td>\n",
       "      <td>0.899659</td>\n",
       "      <td>0.899659</td>\n",
       "    </tr>\n",
       "    <tr>\n",
       "      <th>support</th>\n",
       "      <td>1181.000000</td>\n",
       "      <td>1181.000000</td>\n",
       "      <td>0.899661</td>\n",
       "      <td>2362.000000</td>\n",
       "      <td>2362.000000</td>\n",
       "    </tr>\n",
       "  </tbody>\n",
       "</table>\n",
       "</div>"
      ],
      "text/plain": [
       "                     0            1  accuracy    macro avg  weighted avg\n",
       "precision     0.903419     0.895973  0.899661     0.899696      0.899696\n",
       "recall        0.895004     0.904318  0.899661     0.899661      0.899661\n",
       "f1-score      0.899192     0.900126  0.899661     0.899659      0.899659\n",
       "support    1181.000000  1181.000000  0.899661  2362.000000   2362.000000"
      ]
     },
     "execution_count": 69,
     "metadata": {},
     "output_type": "execute_result"
    }
   ],
   "source": [
    "class_report_val2"
   ]
  },
  {
   "cell_type": "markdown",
   "metadata": {},
   "source": [
    "### Model 4 - Decision Tree"
   ]
  },
  {
   "cell_type": "code",
   "execution_count": 70,
   "metadata": {},
   "outputs": [],
   "source": [
    "cm_val4, class_report_val4 = decision_tree_validate(X_train2, y_train2, X_validate, y_validate, 5)"
   ]
  },
  {
   "cell_type": "code",
   "execution_count": 71,
   "metadata": {},
   "outputs": [
    {
     "data": {
      "text/html": [
       "<div>\n",
       "<style scoped>\n",
       "    .dataframe tbody tr th:only-of-type {\n",
       "        vertical-align: middle;\n",
       "    }\n",
       "\n",
       "    .dataframe tbody tr th {\n",
       "        vertical-align: top;\n",
       "    }\n",
       "\n",
       "    .dataframe thead th {\n",
       "        text-align: right;\n",
       "    }\n",
       "</style>\n",
       "<table border=\"1\" class=\"dataframe\">\n",
       "  <thead>\n",
       "    <tr style=\"text-align: right;\">\n",
       "      <th></th>\n",
       "      <th>0</th>\n",
       "      <th>1</th>\n",
       "    </tr>\n",
       "  </thead>\n",
       "  <tbody>\n",
       "    <tr>\n",
       "      <th>0</th>\n",
       "      <td>888</td>\n",
       "      <td>293</td>\n",
       "    </tr>\n",
       "    <tr>\n",
       "      <th>1</th>\n",
       "      <td>193</td>\n",
       "      <td>988</td>\n",
       "    </tr>\n",
       "  </tbody>\n",
       "</table>\n",
       "</div>"
      ],
      "text/plain": [
       "     0    1\n",
       "0  888  293\n",
       "1  193  988"
      ]
     },
     "execution_count": 71,
     "metadata": {},
     "output_type": "execute_result"
    }
   ],
   "source": [
    "cm_val4"
   ]
  },
  {
   "cell_type": "code",
   "execution_count": 72,
   "metadata": {},
   "outputs": [
    {
     "data": {
      "text/html": [
       "<div>\n",
       "<style scoped>\n",
       "    .dataframe tbody tr th:only-of-type {\n",
       "        vertical-align: middle;\n",
       "    }\n",
       "\n",
       "    .dataframe tbody tr th {\n",
       "        vertical-align: top;\n",
       "    }\n",
       "\n",
       "    .dataframe thead th {\n",
       "        text-align: right;\n",
       "    }\n",
       "</style>\n",
       "<table border=\"1\" class=\"dataframe\">\n",
       "  <thead>\n",
       "    <tr style=\"text-align: right;\">\n",
       "      <th></th>\n",
       "      <th>0</th>\n",
       "      <th>1</th>\n",
       "      <th>accuracy</th>\n",
       "      <th>macro avg</th>\n",
       "      <th>weighted avg</th>\n",
       "    </tr>\n",
       "  </thead>\n",
       "  <tbody>\n",
       "    <tr>\n",
       "      <th>precision</th>\n",
       "      <td>0.821462</td>\n",
       "      <td>0.771272</td>\n",
       "      <td>0.794242</td>\n",
       "      <td>0.796367</td>\n",
       "      <td>0.796367</td>\n",
       "    </tr>\n",
       "    <tr>\n",
       "      <th>recall</th>\n",
       "      <td>0.751905</td>\n",
       "      <td>0.836579</td>\n",
       "      <td>0.794242</td>\n",
       "      <td>0.794242</td>\n",
       "      <td>0.794242</td>\n",
       "    </tr>\n",
       "    <tr>\n",
       "      <th>f1-score</th>\n",
       "      <td>0.785146</td>\n",
       "      <td>0.802600</td>\n",
       "      <td>0.794242</td>\n",
       "      <td>0.793873</td>\n",
       "      <td>0.793873</td>\n",
       "    </tr>\n",
       "    <tr>\n",
       "      <th>support</th>\n",
       "      <td>1181.000000</td>\n",
       "      <td>1181.000000</td>\n",
       "      <td>0.794242</td>\n",
       "      <td>2362.000000</td>\n",
       "      <td>2362.000000</td>\n",
       "    </tr>\n",
       "  </tbody>\n",
       "</table>\n",
       "</div>"
      ],
      "text/plain": [
       "                     0            1  accuracy    macro avg  weighted avg\n",
       "precision     0.821462     0.771272  0.794242     0.796367      0.796367\n",
       "recall        0.751905     0.836579  0.794242     0.794242      0.794242\n",
       "f1-score      0.785146     0.802600  0.794242     0.793873      0.793873\n",
       "support    1181.000000  1181.000000  0.794242  2362.000000   2362.000000"
      ]
     },
     "execution_count": 72,
     "metadata": {},
     "output_type": "execute_result"
    }
   ],
   "source": [
    "class_report_val4"
   ]
  },
  {
   "cell_type": "markdown",
   "metadata": {},
   "source": [
    "### Model 5 - Random Forest"
   ]
  },
  {
   "cell_type": "code",
   "execution_count": 73,
   "metadata": {},
   "outputs": [],
   "source": [
    "cm_val5, class_report_val5 = random_forest_validate(X_train2, y_train2, X_validate, y_validate, 500, 3)"
   ]
  },
  {
   "cell_type": "code",
   "execution_count": 74,
   "metadata": {},
   "outputs": [
    {
     "data": {
      "text/html": [
       "<div>\n",
       "<style scoped>\n",
       "    .dataframe tbody tr th:only-of-type {\n",
       "        vertical-align: middle;\n",
       "    }\n",
       "\n",
       "    .dataframe tbody tr th {\n",
       "        vertical-align: top;\n",
       "    }\n",
       "\n",
       "    .dataframe thead th {\n",
       "        text-align: right;\n",
       "    }\n",
       "</style>\n",
       "<table border=\"1\" class=\"dataframe\">\n",
       "  <thead>\n",
       "    <tr style=\"text-align: right;\">\n",
       "      <th></th>\n",
       "      <th>0</th>\n",
       "      <th>1</th>\n",
       "    </tr>\n",
       "  </thead>\n",
       "  <tbody>\n",
       "    <tr>\n",
       "      <th>0</th>\n",
       "      <td>966</td>\n",
       "      <td>215</td>\n",
       "    </tr>\n",
       "    <tr>\n",
       "      <th>1</th>\n",
       "      <td>231</td>\n",
       "      <td>950</td>\n",
       "    </tr>\n",
       "  </tbody>\n",
       "</table>\n",
       "</div>"
      ],
      "text/plain": [
       "     0    1\n",
       "0  966  215\n",
       "1  231  950"
      ]
     },
     "execution_count": 74,
     "metadata": {},
     "output_type": "execute_result"
    }
   ],
   "source": [
    "cm_val5"
   ]
  },
  {
   "cell_type": "code",
   "execution_count": 75,
   "metadata": {},
   "outputs": [
    {
     "data": {
      "text/html": [
       "<div>\n",
       "<style scoped>\n",
       "    .dataframe tbody tr th:only-of-type {\n",
       "        vertical-align: middle;\n",
       "    }\n",
       "\n",
       "    .dataframe tbody tr th {\n",
       "        vertical-align: top;\n",
       "    }\n",
       "\n",
       "    .dataframe thead th {\n",
       "        text-align: right;\n",
       "    }\n",
       "</style>\n",
       "<table border=\"1\" class=\"dataframe\">\n",
       "  <thead>\n",
       "    <tr style=\"text-align: right;\">\n",
       "      <th></th>\n",
       "      <th>0</th>\n",
       "      <th>1</th>\n",
       "      <th>accuracy</th>\n",
       "      <th>macro avg</th>\n",
       "      <th>weighted avg</th>\n",
       "    </tr>\n",
       "  </thead>\n",
       "  <tbody>\n",
       "    <tr>\n",
       "      <th>precision</th>\n",
       "      <td>0.807018</td>\n",
       "      <td>0.815451</td>\n",
       "      <td>0.811177</td>\n",
       "      <td>0.811234</td>\n",
       "      <td>0.811234</td>\n",
       "    </tr>\n",
       "    <tr>\n",
       "      <th>recall</th>\n",
       "      <td>0.817951</td>\n",
       "      <td>0.804403</td>\n",
       "      <td>0.811177</td>\n",
       "      <td>0.811177</td>\n",
       "      <td>0.811177</td>\n",
       "    </tr>\n",
       "    <tr>\n",
       "      <th>f1-score</th>\n",
       "      <td>0.812447</td>\n",
       "      <td>0.809889</td>\n",
       "      <td>0.811177</td>\n",
       "      <td>0.811168</td>\n",
       "      <td>0.811168</td>\n",
       "    </tr>\n",
       "    <tr>\n",
       "      <th>support</th>\n",
       "      <td>1181.000000</td>\n",
       "      <td>1181.000000</td>\n",
       "      <td>0.811177</td>\n",
       "      <td>2362.000000</td>\n",
       "      <td>2362.000000</td>\n",
       "    </tr>\n",
       "  </tbody>\n",
       "</table>\n",
       "</div>"
      ],
      "text/plain": [
       "                     0            1  accuracy    macro avg  weighted avg\n",
       "precision     0.807018     0.815451  0.811177     0.811234      0.811234\n",
       "recall        0.817951     0.804403  0.811177     0.811177      0.811177\n",
       "f1-score      0.812447     0.809889  0.811177     0.811168      0.811168\n",
       "support    1181.000000  1181.000000  0.811177  2362.000000   2362.000000"
      ]
     },
     "execution_count": 75,
     "metadata": {},
     "output_type": "execute_result"
    }
   ],
   "source": [
    "class_report_val5"
   ]
  },
  {
   "cell_type": "markdown",
   "metadata": {},
   "source": [
    "### Model 7 - K-Nearest Neighbor"
   ]
  },
  {
   "cell_type": "code",
   "execution_count": 76,
   "metadata": {},
   "outputs": [],
   "source": [
    "cm_val7, class_report_val7 = kneighbors_validate(X_train2, y_train2, X_validate, y_validate, 3)"
   ]
  },
  {
   "cell_type": "code",
   "execution_count": 77,
   "metadata": {},
   "outputs": [
    {
     "data": {
      "text/html": [
       "<div>\n",
       "<style scoped>\n",
       "    .dataframe tbody tr th:only-of-type {\n",
       "        vertical-align: middle;\n",
       "    }\n",
       "\n",
       "    .dataframe tbody tr th {\n",
       "        vertical-align: top;\n",
       "    }\n",
       "\n",
       "    .dataframe thead th {\n",
       "        text-align: right;\n",
       "    }\n",
       "</style>\n",
       "<table border=\"1\" class=\"dataframe\">\n",
       "  <thead>\n",
       "    <tr style=\"text-align: right;\">\n",
       "      <th></th>\n",
       "      <th>0</th>\n",
       "      <th>1</th>\n",
       "    </tr>\n",
       "  </thead>\n",
       "  <tbody>\n",
       "    <tr>\n",
       "      <th>0</th>\n",
       "      <td>993</td>\n",
       "      <td>188</td>\n",
       "    </tr>\n",
       "    <tr>\n",
       "      <th>1</th>\n",
       "      <td>171</td>\n",
       "      <td>1010</td>\n",
       "    </tr>\n",
       "  </tbody>\n",
       "</table>\n",
       "</div>"
      ],
      "text/plain": [
       "     0     1\n",
       "0  993   188\n",
       "1  171  1010"
      ]
     },
     "execution_count": 77,
     "metadata": {},
     "output_type": "execute_result"
    }
   ],
   "source": [
    "cm_val7"
   ]
  },
  {
   "cell_type": "code",
   "execution_count": 78,
   "metadata": {},
   "outputs": [
    {
     "data": {
      "text/html": [
       "<div>\n",
       "<style scoped>\n",
       "    .dataframe tbody tr th:only-of-type {\n",
       "        vertical-align: middle;\n",
       "    }\n",
       "\n",
       "    .dataframe tbody tr th {\n",
       "        vertical-align: top;\n",
       "    }\n",
       "\n",
       "    .dataframe thead th {\n",
       "        text-align: right;\n",
       "    }\n",
       "</style>\n",
       "<table border=\"1\" class=\"dataframe\">\n",
       "  <thead>\n",
       "    <tr style=\"text-align: right;\">\n",
       "      <th></th>\n",
       "      <th>0</th>\n",
       "      <th>1</th>\n",
       "      <th>accuracy</th>\n",
       "      <th>macro avg</th>\n",
       "      <th>weighted avg</th>\n",
       "    </tr>\n",
       "  </thead>\n",
       "  <tbody>\n",
       "    <tr>\n",
       "      <th>precision</th>\n",
       "      <td>0.853093</td>\n",
       "      <td>0.843072</td>\n",
       "      <td>0.84801</td>\n",
       "      <td>0.848082</td>\n",
       "      <td>0.848082</td>\n",
       "    </tr>\n",
       "    <tr>\n",
       "      <th>recall</th>\n",
       "      <td>0.840813</td>\n",
       "      <td>0.855207</td>\n",
       "      <td>0.84801</td>\n",
       "      <td>0.848010</td>\n",
       "      <td>0.848010</td>\n",
       "    </tr>\n",
       "    <tr>\n",
       "      <th>f1-score</th>\n",
       "      <td>0.846908</td>\n",
       "      <td>0.849096</td>\n",
       "      <td>0.84801</td>\n",
       "      <td>0.848002</td>\n",
       "      <td>0.848002</td>\n",
       "    </tr>\n",
       "    <tr>\n",
       "      <th>support</th>\n",
       "      <td>1181.000000</td>\n",
       "      <td>1181.000000</td>\n",
       "      <td>0.84801</td>\n",
       "      <td>2362.000000</td>\n",
       "      <td>2362.000000</td>\n",
       "    </tr>\n",
       "  </tbody>\n",
       "</table>\n",
       "</div>"
      ],
      "text/plain": [
       "                     0            1  accuracy    macro avg  weighted avg\n",
       "precision     0.853093     0.843072   0.84801     0.848082      0.848082\n",
       "recall        0.840813     0.855207   0.84801     0.848010      0.848010\n",
       "f1-score      0.846908     0.849096   0.84801     0.848002      0.848002\n",
       "support    1181.000000  1181.000000   0.84801  2362.000000   2362.000000"
      ]
     },
     "execution_count": 78,
     "metadata": {},
     "output_type": "execute_result"
    }
   ],
   "source": [
    "class_report_val7"
   ]
  },
  {
   "cell_type": "markdown",
   "metadata": {},
   "source": [
    "#### Results\n",
    "| | Accuracy-Train | Accuracy-Validate |\n",
    "| --- | --- | --- |\n",
    "| Model 2: | .8966 | .8997 |\n",
    "| Model 4: | .8240 | .7942 |\n",
    "| Model 5: | .8192 | .8112 |\n",
    "| Model 7: | .9245 | .8480 |"
   ]
  },
  {
   "cell_type": "markdown",
   "metadata": {},
   "source": [
    "<div class=\"alert alert-block alert-info\">\n",
    "    \n",
    "- Model 2's results are nearly identical to what we saw in the train stage\n",
    "- Model 4 did worse than the train dataset and was the least accurate overall \n",
    "- Model 5 was consistent from the train to validate stage \n",
    "    - Still no where near the 90% range that model 2 and model 7 performed \n",
    "- As feared, Model 7 did overfit in the training stage with a drop in accuracy of over 7%\n",
    "    - Performed better than Model 4 & 5 regardless but we want the best accurate model from both stages\n",
    "- We will move forward with Model 2\n",
    "</div>"
   ]
  },
  {
   "cell_type": "markdown",
   "metadata": {},
   "source": [
    "## Test"
   ]
  },
  {
   "cell_type": "code",
   "execution_count": 79,
   "metadata": {},
   "outputs": [],
   "source": [
    "X_test = test_scaled[['FieldGoals._scaled', 'Opp.FieldGoals._scaled', 'TotalRebounds_scaled', 'Opp.TotalRebounds_scaled', 'Turnovers_scaled', 'Opp.Turnovers_scaled', 'TotalFouls_scaled', 'Opp.TotalFouls_scaled']]\n",
    "y_test = test_scaled.W"
   ]
  },
  {
   "cell_type": "code",
   "execution_count": 80,
   "metadata": {},
   "outputs": [],
   "source": [
    "coeff_test2, cm_test2, class_report_test2 = logistic_regression_validate(X_train2, y_train2, X_test, y_test)"
   ]
  },
  {
   "cell_type": "code",
   "execution_count": 81,
   "metadata": {},
   "outputs": [
    {
     "data": {
      "text/html": [
       "<div>\n",
       "<style scoped>\n",
       "    .dataframe tbody tr th:only-of-type {\n",
       "        vertical-align: middle;\n",
       "    }\n",
       "\n",
       "    .dataframe tbody tr th {\n",
       "        vertical-align: top;\n",
       "    }\n",
       "\n",
       "    .dataframe thead th {\n",
       "        text-align: right;\n",
       "    }\n",
       "</style>\n",
       "<table border=\"1\" class=\"dataframe\">\n",
       "  <thead>\n",
       "    <tr style=\"text-align: right;\">\n",
       "      <th></th>\n",
       "      <th>0</th>\n",
       "      <th>1</th>\n",
       "    </tr>\n",
       "  </thead>\n",
       "  <tbody>\n",
       "    <tr>\n",
       "      <th>0</th>\n",
       "      <td>878</td>\n",
       "      <td>106</td>\n",
       "    </tr>\n",
       "    <tr>\n",
       "      <th>1</th>\n",
       "      <td>95</td>\n",
       "      <td>889</td>\n",
       "    </tr>\n",
       "  </tbody>\n",
       "</table>\n",
       "</div>"
      ],
      "text/plain": [
       "     0    1\n",
       "0  878  106\n",
       "1   95  889"
      ]
     },
     "execution_count": 81,
     "metadata": {},
     "output_type": "execute_result"
    }
   ],
   "source": [
    "cm_test2"
   ]
  },
  {
   "cell_type": "code",
   "execution_count": 82,
   "metadata": {},
   "outputs": [
    {
     "data": {
      "text/html": [
       "<div>\n",
       "<style scoped>\n",
       "    .dataframe tbody tr th:only-of-type {\n",
       "        vertical-align: middle;\n",
       "    }\n",
       "\n",
       "    .dataframe tbody tr th {\n",
       "        vertical-align: top;\n",
       "    }\n",
       "\n",
       "    .dataframe thead th {\n",
       "        text-align: right;\n",
       "    }\n",
       "</style>\n",
       "<table border=\"1\" class=\"dataframe\">\n",
       "  <thead>\n",
       "    <tr style=\"text-align: right;\">\n",
       "      <th></th>\n",
       "      <th>0</th>\n",
       "      <th>1</th>\n",
       "      <th>accuracy</th>\n",
       "      <th>macro avg</th>\n",
       "      <th>weighted avg</th>\n",
       "    </tr>\n",
       "  </thead>\n",
       "  <tbody>\n",
       "    <tr>\n",
       "      <th>precision</th>\n",
       "      <td>0.902364</td>\n",
       "      <td>0.893467</td>\n",
       "      <td>0.897866</td>\n",
       "      <td>0.897916</td>\n",
       "      <td>0.897916</td>\n",
       "    </tr>\n",
       "    <tr>\n",
       "      <th>recall</th>\n",
       "      <td>0.892276</td>\n",
       "      <td>0.903455</td>\n",
       "      <td>0.897866</td>\n",
       "      <td>0.897866</td>\n",
       "      <td>0.897866</td>\n",
       "    </tr>\n",
       "    <tr>\n",
       "      <th>f1-score</th>\n",
       "      <td>0.897292</td>\n",
       "      <td>0.898434</td>\n",
       "      <td>0.897866</td>\n",
       "      <td>0.897863</td>\n",
       "      <td>0.897863</td>\n",
       "    </tr>\n",
       "    <tr>\n",
       "      <th>support</th>\n",
       "      <td>984.000000</td>\n",
       "      <td>984.000000</td>\n",
       "      <td>0.897866</td>\n",
       "      <td>1968.000000</td>\n",
       "      <td>1968.000000</td>\n",
       "    </tr>\n",
       "  </tbody>\n",
       "</table>\n",
       "</div>"
      ],
      "text/plain": [
       "                    0           1  accuracy    macro avg  weighted avg\n",
       "precision    0.902364    0.893467  0.897866     0.897916      0.897916\n",
       "recall       0.892276    0.903455  0.897866     0.897866      0.897866\n",
       "f1-score     0.897292    0.898434  0.897866     0.897863      0.897863\n",
       "support    984.000000  984.000000  0.897866  1968.000000   1968.000000"
      ]
     },
     "execution_count": 82,
     "metadata": {},
     "output_type": "execute_result"
    }
   ],
   "source": [
    "class_report_test2"
   ]
  },
  {
   "cell_type": "markdown",
   "metadata": {},
   "source": [
    "#### Results\n",
    "| | Accuracy-Train | Accuracy-Validate | Accuracy-Test\n",
    "| --- | --- | --- | --- |\n",
    "| Model 2: | .8966 | .8997 | .8979 |\n"
   ]
  },
  {
   "cell_type": "markdown",
   "metadata": {},
   "source": [
    "## Summary"
   ]
  },
  {
   "cell_type": "markdown",
   "metadata": {},
   "source": [
    "<div class=\"alert alert-block alert-info\">\n",
    "    \n",
    "- In modeling, we used Logistic Regression to find out that of the 23 different variables created to predict wins, 8 seem to be more influential than others(4 if you only include the stats from one team).\n",
    "- 4 more models were produced with the top features, another logistic regression, decision tree, random forest and a knn model.\n",
    "- These models were evaluated against a baseline model with an accuracy of .500\n",
    "- Model 2(Logistic Regression) performed the best with an overall accuracy of **89.76%**\n",
    "</div>"
   ]
  },
  {
   "cell_type": "markdown",
   "metadata": {},
   "source": [
    "## Next Steps"
   ]
  },
  {
   "cell_type": "markdown",
   "metadata": {},
   "source": [
    "For a deeper exploration we could...\n",
    "- decide to remove the outliers within the dataset and see if it improves the accuracy\n",
    "- do some outside research and see if distance traveled from game to game could have an influence in winning or losing games\n",
    "- split the games into seasons and see if the features weights are different from season to season\n",
    "- do something with the categorical variables `Team` and `Opponent` and see if that has any kind of influence among winning"
   ]
  }
 ],
 "metadata": {
  "kernelspec": {
   "display_name": "Python 3",
   "language": "python",
   "name": "python3"
  },
  "language_info": {
   "codemirror_mode": {
    "name": "ipython",
    "version": 3
   },
   "file_extension": ".py",
   "mimetype": "text/x-python",
   "name": "python",
   "nbconvert_exporter": "python",
   "pygments_lexer": "ipython3",
   "version": "3.7.6"
  }
 },
 "nbformat": 4,
 "nbformat_minor": 4
}
